{
 "cells": [
  {
   "cell_type": "code",
   "execution_count": 2,
   "id": "edfa030d",
   "metadata": {},
   "outputs": [],
   "source": [
    "import os\n",
    "import glob\n",
    "import sys\n",
    "import pyspark\n",
    "import pandas as pd\n",
    "import numpy as np\n",
    "import matplotlib.pyplot as plt\n",
    "import seaborn as sns\n",
    "from pyspark.sql import SparkSession\n",
    "from pyspark import SparkContext, SparkConf\n",
    "from sklearn.preprocessing import LabelEncoder"
   ]
  },
  {
   "cell_type": "code",
   "execution_count": 2,
   "id": "e5afcbbb",
   "metadata": {},
   "outputs": [
    {
     "data": {
      "text/plain": [
       "(67501979, 9)"
      ]
     },
     "execution_count": 2,
     "metadata": {},
     "output_type": "execute_result"
    }
   ],
   "source": [
    "df = pd.read_csv('2019-Nov.csv', parse_dates=['event_time']) # pandas\n",
    "df.shape"
   ]
  },
  {
   "cell_type": "code",
   "execution_count": 3,
   "id": "8ac2ce02",
   "metadata": {},
   "outputs": [
    {
     "data": {
      "text/html": [
       "<div>\n",
       "<style scoped>\n",
       "    .dataframe tbody tr th:only-of-type {\n",
       "        vertical-align: middle;\n",
       "    }\n",
       "\n",
       "    .dataframe tbody tr th {\n",
       "        vertical-align: top;\n",
       "    }\n",
       "\n",
       "    .dataframe thead th {\n",
       "        text-align: right;\n",
       "    }\n",
       "</style>\n",
       "<table border=\"1\" class=\"dataframe\">\n",
       "  <thead>\n",
       "    <tr style=\"text-align: right;\">\n",
       "      <th></th>\n",
       "      <th>event_time</th>\n",
       "      <th>event_type</th>\n",
       "      <th>product_id</th>\n",
       "      <th>category_id</th>\n",
       "      <th>category_code</th>\n",
       "      <th>brand</th>\n",
       "      <th>price</th>\n",
       "      <th>user_id</th>\n",
       "      <th>user_session</th>\n",
       "    </tr>\n",
       "  </thead>\n",
       "  <tbody>\n",
       "    <tr>\n",
       "      <th>0</th>\n",
       "      <td>2019-11-01 00:00:00+00:00</td>\n",
       "      <td>view</td>\n",
       "      <td>1003461</td>\n",
       "      <td>2053013555631882655</td>\n",
       "      <td>electronics.smartphone</td>\n",
       "      <td>xiaomi</td>\n",
       "      <td>489.07</td>\n",
       "      <td>520088904</td>\n",
       "      <td>4d3b30da-a5e4-49df-b1a8-ba5943f1dd33</td>\n",
       "    </tr>\n",
       "    <tr>\n",
       "      <th>1</th>\n",
       "      <td>2019-11-01 00:00:00+00:00</td>\n",
       "      <td>view</td>\n",
       "      <td>5000088</td>\n",
       "      <td>2053013566100866035</td>\n",
       "      <td>appliances.sewing_machine</td>\n",
       "      <td>janome</td>\n",
       "      <td>293.65</td>\n",
       "      <td>530496790</td>\n",
       "      <td>8e5f4f83-366c-4f70-860e-ca7417414283</td>\n",
       "    </tr>\n",
       "    <tr>\n",
       "      <th>2</th>\n",
       "      <td>2019-11-01 00:00:01+00:00</td>\n",
       "      <td>view</td>\n",
       "      <td>17302664</td>\n",
       "      <td>2053013553853497655</td>\n",
       "      <td>NaN</td>\n",
       "      <td>creed</td>\n",
       "      <td>28.31</td>\n",
       "      <td>561587266</td>\n",
       "      <td>755422e7-9040-477b-9bd2-6a6e8fd97387</td>\n",
       "    </tr>\n",
       "    <tr>\n",
       "      <th>3</th>\n",
       "      <td>2019-11-01 00:00:01+00:00</td>\n",
       "      <td>view</td>\n",
       "      <td>3601530</td>\n",
       "      <td>2053013563810775923</td>\n",
       "      <td>appliances.kitchen.washer</td>\n",
       "      <td>lg</td>\n",
       "      <td>712.87</td>\n",
       "      <td>518085591</td>\n",
       "      <td>3bfb58cd-7892-48cc-8020-2f17e6de6e7f</td>\n",
       "    </tr>\n",
       "    <tr>\n",
       "      <th>4</th>\n",
       "      <td>2019-11-01 00:00:01+00:00</td>\n",
       "      <td>view</td>\n",
       "      <td>1004775</td>\n",
       "      <td>2053013555631882655</td>\n",
       "      <td>electronics.smartphone</td>\n",
       "      <td>xiaomi</td>\n",
       "      <td>183.27</td>\n",
       "      <td>558856683</td>\n",
       "      <td>313628f1-68b8-460d-84f6-cec7a8796ef2</td>\n",
       "    </tr>\n",
       "    <tr>\n",
       "      <th>5</th>\n",
       "      <td>2019-11-01 00:00:01+00:00</td>\n",
       "      <td>view</td>\n",
       "      <td>1306894</td>\n",
       "      <td>2053013558920217191</td>\n",
       "      <td>computers.notebook</td>\n",
       "      <td>hp</td>\n",
       "      <td>360.09</td>\n",
       "      <td>520772685</td>\n",
       "      <td>816a59f3-f5ae-4ccd-9b23-82aa8c23d33c</td>\n",
       "    </tr>\n",
       "    <tr>\n",
       "      <th>6</th>\n",
       "      <td>2019-11-01 00:00:01+00:00</td>\n",
       "      <td>view</td>\n",
       "      <td>1306421</td>\n",
       "      <td>2053013558920217191</td>\n",
       "      <td>computers.notebook</td>\n",
       "      <td>hp</td>\n",
       "      <td>514.56</td>\n",
       "      <td>514028527</td>\n",
       "      <td>df8184cc-3694-4549-8c8c-6b5171877376</td>\n",
       "    </tr>\n",
       "    <tr>\n",
       "      <th>7</th>\n",
       "      <td>2019-11-01 00:00:02+00:00</td>\n",
       "      <td>view</td>\n",
       "      <td>15900065</td>\n",
       "      <td>2053013558190408249</td>\n",
       "      <td>NaN</td>\n",
       "      <td>rondell</td>\n",
       "      <td>30.86</td>\n",
       "      <td>518574284</td>\n",
       "      <td>5e6ef132-4d7c-4730-8c7f-85aa4082588f</td>\n",
       "    </tr>\n",
       "    <tr>\n",
       "      <th>8</th>\n",
       "      <td>2019-11-01 00:00:02+00:00</td>\n",
       "      <td>view</td>\n",
       "      <td>12708937</td>\n",
       "      <td>2053013553559896355</td>\n",
       "      <td>NaN</td>\n",
       "      <td>michelin</td>\n",
       "      <td>72.72</td>\n",
       "      <td>532364121</td>\n",
       "      <td>0a899268-31eb-46de-898d-09b2da950b24</td>\n",
       "    </tr>\n",
       "    <tr>\n",
       "      <th>9</th>\n",
       "      <td>2019-11-01 00:00:02+00:00</td>\n",
       "      <td>view</td>\n",
       "      <td>1004258</td>\n",
       "      <td>2053013555631882655</td>\n",
       "      <td>electronics.smartphone</td>\n",
       "      <td>apple</td>\n",
       "      <td>732.07</td>\n",
       "      <td>532647354</td>\n",
       "      <td>d2d3d2c6-631d-489e-9fb5-06f340b85be0</td>\n",
       "    </tr>\n",
       "    <tr>\n",
       "      <th>10</th>\n",
       "      <td>2019-11-01 00:00:03+00:00</td>\n",
       "      <td>view</td>\n",
       "      <td>17200570</td>\n",
       "      <td>2053013559792632471</td>\n",
       "      <td>furniture.living_room.sofa</td>\n",
       "      <td>NaN</td>\n",
       "      <td>437.33</td>\n",
       "      <td>518780843</td>\n",
       "      <td>aa806835-b14c-45af-9538-cd4d1849be3e</td>\n",
       "    </tr>\n",
       "    <tr>\n",
       "      <th>11</th>\n",
       "      <td>2019-11-01 00:00:03+00:00</td>\n",
       "      <td>view</td>\n",
       "      <td>2701517</td>\n",
       "      <td>2053013563911439225</td>\n",
       "      <td>appliances.kitchen.refrigerators</td>\n",
       "      <td>NaN</td>\n",
       "      <td>155.11</td>\n",
       "      <td>518427361</td>\n",
       "      <td>c89b0d96-247f-4044-9c91-bb5f38c6af9b</td>\n",
       "    </tr>\n",
       "    <tr>\n",
       "      <th>12</th>\n",
       "      <td>2019-11-01 00:00:03+00:00</td>\n",
       "      <td>view</td>\n",
       "      <td>16700260</td>\n",
       "      <td>2053013559901684381</td>\n",
       "      <td>furniture.kitchen.chair</td>\n",
       "      <td>NaN</td>\n",
       "      <td>31.64</td>\n",
       "      <td>566255262</td>\n",
       "      <td>173d7b72-1db7-4638-8207-be8148bf3c9f</td>\n",
       "    </tr>\n",
       "    <tr>\n",
       "      <th>13</th>\n",
       "      <td>2019-11-01 00:00:04+00:00</td>\n",
       "      <td>view</td>\n",
       "      <td>34600011</td>\n",
       "      <td>2060981320581906480</td>\n",
       "      <td>NaN</td>\n",
       "      <td>NaN</td>\n",
       "      <td>20.54</td>\n",
       "      <td>512416379</td>\n",
       "      <td>4dfe2c67-e537-4dc2-ae69-0b65263db091</td>\n",
       "    </tr>\n",
       "    <tr>\n",
       "      <th>14</th>\n",
       "      <td>2019-11-01 00:00:05+00:00</td>\n",
       "      <td>view</td>\n",
       "      <td>4600658</td>\n",
       "      <td>2053013563944993659</td>\n",
       "      <td>appliances.kitchen.dishwasher</td>\n",
       "      <td>samsung</td>\n",
       "      <td>411.83</td>\n",
       "      <td>526595547</td>\n",
       "      <td>aab33a9a-29c3-4d50-84c1-8a2bc9256104</td>\n",
       "    </tr>\n",
       "    <tr>\n",
       "      <th>15</th>\n",
       "      <td>2019-11-01 00:00:06+00:00</td>\n",
       "      <td>view</td>\n",
       "      <td>24900193</td>\n",
       "      <td>2053013562183385881</td>\n",
       "      <td>NaN</td>\n",
       "      <td>NaN</td>\n",
       "      <td>1.09</td>\n",
       "      <td>512651494</td>\n",
       "      <td>f603c815-f51a-46fe-9404-cb586e35edaf</td>\n",
       "    </tr>\n",
       "    <tr>\n",
       "      <th>16</th>\n",
       "      <td>2019-11-01 00:00:07+00:00</td>\n",
       "      <td>view</td>\n",
       "      <td>27400066</td>\n",
       "      <td>2053013563391345499</td>\n",
       "      <td>NaN</td>\n",
       "      <td>NaN</td>\n",
       "      <td>8.55</td>\n",
       "      <td>551061950</td>\n",
       "      <td>3f6112f1-5695-4e88-bb0a-49f9e36658ff</td>\n",
       "    </tr>\n",
       "    <tr>\n",
       "      <th>17</th>\n",
       "      <td>2019-11-01 00:00:07+00:00</td>\n",
       "      <td>view</td>\n",
       "      <td>5100503</td>\n",
       "      <td>2053013553375346967</td>\n",
       "      <td>NaN</td>\n",
       "      <td>xiaomi</td>\n",
       "      <td>22.68</td>\n",
       "      <td>520037415</td>\n",
       "      <td>f54fa96a-f3f2-43ac-99a4-fcb2a449dd36</td>\n",
       "    </tr>\n",
       "    <tr>\n",
       "      <th>18</th>\n",
       "      <td>2019-11-01 00:00:07+00:00</td>\n",
       "      <td>view</td>\n",
       "      <td>1004566</td>\n",
       "      <td>2053013555631882655</td>\n",
       "      <td>electronics.smartphone</td>\n",
       "      <td>huawei</td>\n",
       "      <td>164.84</td>\n",
       "      <td>566265908</td>\n",
       "      <td>52c2c76c-b79e-4794-86ff-badc76d35f5a</td>\n",
       "    </tr>\n",
       "    <tr>\n",
       "      <th>19</th>\n",
       "      <td>2019-11-01 00:00:08+00:00</td>\n",
       "      <td>view</td>\n",
       "      <td>1307115</td>\n",
       "      <td>2053013558920217191</td>\n",
       "      <td>computers.notebook</td>\n",
       "      <td>hp</td>\n",
       "      <td>411.59</td>\n",
       "      <td>514028527</td>\n",
       "      <td>df8184cc-3694-4549-8c8c-6b5171877376</td>\n",
       "    </tr>\n",
       "    <tr>\n",
       "      <th>20</th>\n",
       "      <td>2019-11-01 00:00:08+00:00</td>\n",
       "      <td>view</td>\n",
       "      <td>12719154</td>\n",
       "      <td>2053013553559896355</td>\n",
       "      <td>NaN</td>\n",
       "      <td>yokohama</td>\n",
       "      <td>88.81</td>\n",
       "      <td>512376444</td>\n",
       "      <td>f7e8ffaa-5103-47f3-90ab-c30f313770c0</td>\n",
       "    </tr>\n",
       "    <tr>\n",
       "      <th>21</th>\n",
       "      <td>2019-11-01 00:00:08+00:00</td>\n",
       "      <td>view</td>\n",
       "      <td>1004708</td>\n",
       "      <td>2053013555631882655</td>\n",
       "      <td>electronics.smartphone</td>\n",
       "      <td>huawei</td>\n",
       "      <td>151.99</td>\n",
       "      <td>566143627</td>\n",
       "      <td>aa610ab3-5c60-4551-8a2b-8c999dddf843</td>\n",
       "    </tr>\n",
       "    <tr>\n",
       "      <th>22</th>\n",
       "      <td>2019-11-01 00:00:08+00:00</td>\n",
       "      <td>view</td>\n",
       "      <td>26022534</td>\n",
       "      <td>2053013562837697343</td>\n",
       "      <td>NaN</td>\n",
       "      <td>NaN</td>\n",
       "      <td>7.07</td>\n",
       "      <td>566280860</td>\n",
       "      <td>341a87d8-8cf4-4b4a-8b7d-749380697af1</td>\n",
       "    </tr>\n",
       "    <tr>\n",
       "      <th>23</th>\n",
       "      <td>2019-11-01 00:00:08+00:00</td>\n",
       "      <td>view</td>\n",
       "      <td>17200558</td>\n",
       "      <td>2053013559792632471</td>\n",
       "      <td>furniture.living_room.sofa</td>\n",
       "      <td>NaN</td>\n",
       "      <td>591.78</td>\n",
       "      <td>566280536</td>\n",
       "      <td>34e7a822-0b93-4a9a-8ce0-bae4cadb21d8</td>\n",
       "    </tr>\n",
       "    <tr>\n",
       "      <th>24</th>\n",
       "      <td>2019-11-01 00:00:09+00:00</td>\n",
       "      <td>view</td>\n",
       "      <td>17300016</td>\n",
       "      <td>2053013553853497655</td>\n",
       "      <td>NaN</td>\n",
       "      <td>trussardi</td>\n",
       "      <td>55.33</td>\n",
       "      <td>563769246</td>\n",
       "      <td>95ab5d5d-be19-4118-84e9-534d65b7a687</td>\n",
       "    </tr>\n",
       "    <tr>\n",
       "      <th>25</th>\n",
       "      <td>2019-11-01 00:00:09+00:00</td>\n",
       "      <td>view</td>\n",
       "      <td>26019863</td>\n",
       "      <td>2053013562837697343</td>\n",
       "      <td>NaN</td>\n",
       "      <td>NaN</td>\n",
       "      <td>11.79</td>\n",
       "      <td>566280860</td>\n",
       "      <td>341a87d8-8cf4-4b4a-8b7d-749380697af1</td>\n",
       "    </tr>\n",
       "    <tr>\n",
       "      <th>26</th>\n",
       "      <td>2019-11-01 00:00:09+00:00</td>\n",
       "      <td>view</td>\n",
       "      <td>17501048</td>\n",
       "      <td>2053013558752445019</td>\n",
       "      <td>NaN</td>\n",
       "      <td>eveline</td>\n",
       "      <td>7.59</td>\n",
       "      <td>515849878</td>\n",
       "      <td>31e80b9c-e5b3-437b-9112-c2a110e5c38a</td>\n",
       "    </tr>\n",
       "    <tr>\n",
       "      <th>27</th>\n",
       "      <td>2019-11-01 00:00:10+00:00</td>\n",
       "      <td>view</td>\n",
       "      <td>1005115</td>\n",
       "      <td>2053013555631882655</td>\n",
       "      <td>electronics.smartphone</td>\n",
       "      <td>apple</td>\n",
       "      <td>949.47</td>\n",
       "      <td>562079864</td>\n",
       "      <td>0fe64462-83eb-4131-ab00-8e764dd995c3</td>\n",
       "    </tr>\n",
       "    <tr>\n",
       "      <th>28</th>\n",
       "      <td>2019-11-01 00:00:10+00:00</td>\n",
       "      <td>view</td>\n",
       "      <td>1307350</td>\n",
       "      <td>2053013558920217191</td>\n",
       "      <td>computers.notebook</td>\n",
       "      <td>acer</td>\n",
       "      <td>514.79</td>\n",
       "      <td>513741043</td>\n",
       "      <td>82f7f972-346a-41f1-ae58-3ccf1edf6726</td>\n",
       "    </tr>\n",
       "    <tr>\n",
       "      <th>29</th>\n",
       "      <td>2019-11-01 00:00:11+00:00</td>\n",
       "      <td>view</td>\n",
       "      <td>1307340</td>\n",
       "      <td>2053013558920217191</td>\n",
       "      <td>computers.notebook</td>\n",
       "      <td>asus</td>\n",
       "      <td>360.34</td>\n",
       "      <td>520772685</td>\n",
       "      <td>816a59f3-f5ae-4ccd-9b23-82aa8c23d33c</td>\n",
       "    </tr>\n",
       "    <tr>\n",
       "      <th>30</th>\n",
       "      <td>2019-11-01 00:00:11+00:00</td>\n",
       "      <td>view</td>\n",
       "      <td>41100055</td>\n",
       "      <td>2090228413959766319</td>\n",
       "      <td>NaN</td>\n",
       "      <td>NaN</td>\n",
       "      <td>38.07</td>\n",
       "      <td>562234311</td>\n",
       "      <td>4cbd502f-b1df-4bcf-a1cb-78bb18c37e70</td>\n",
       "    </tr>\n",
       "    <tr>\n",
       "      <th>31</th>\n",
       "      <td>2019-11-01 00:00:12+00:00</td>\n",
       "      <td>view</td>\n",
       "      <td>16700826</td>\n",
       "      <td>2053013559901684381</td>\n",
       "      <td>furniture.kitchen.chair</td>\n",
       "      <td>nika</td>\n",
       "      <td>47.77</td>\n",
       "      <td>566255262</td>\n",
       "      <td>173d7b72-1db7-4638-8207-be8148bf3c9f</td>\n",
       "    </tr>\n",
       "    <tr>\n",
       "      <th>32</th>\n",
       "      <td>2019-11-01 00:00:12+00:00</td>\n",
       "      <td>view</td>\n",
       "      <td>30100041</td>\n",
       "      <td>2053013556110033341</td>\n",
       "      <td>NaN</td>\n",
       "      <td>NaN</td>\n",
       "      <td>23.40</td>\n",
       "      <td>532704496</td>\n",
       "      <td>cf2c87cc-a4ea-4c98-add1-f916c68e86ca</td>\n",
       "    </tr>\n",
       "    <tr>\n",
       "      <th>33</th>\n",
       "      <td>2019-11-01 00:00:12+00:00</td>\n",
       "      <td>view</td>\n",
       "      <td>22700205</td>\n",
       "      <td>2053013556168753601</td>\n",
       "      <td>NaN</td>\n",
       "      <td>matrix</td>\n",
       "      <td>23.14</td>\n",
       "      <td>564599988</td>\n",
       "      <td>d67efe84-f47e-44dd-8abf-a9122c706acd</td>\n",
       "    </tr>\n",
       "    <tr>\n",
       "      <th>34</th>\n",
       "      <td>2019-11-01 00:00:12+00:00</td>\n",
       "      <td>view</td>\n",
       "      <td>10800182</td>\n",
       "      <td>2053013554994348409</td>\n",
       "      <td>NaN</td>\n",
       "      <td>redmond</td>\n",
       "      <td>61.10</td>\n",
       "      <td>527322328</td>\n",
       "      <td>5054190a-46cb-4211-a8f1-16fc1a060ed8</td>\n",
       "    </tr>\n",
       "    <tr>\n",
       "      <th>35</th>\n",
       "      <td>2019-11-01 00:00:12+00:00</td>\n",
       "      <td>view</td>\n",
       "      <td>52000058</td>\n",
       "      <td>2137704922018218396</td>\n",
       "      <td>NaN</td>\n",
       "      <td>tomfarr</td>\n",
       "      <td>127.42</td>\n",
       "      <td>517702267</td>\n",
       "      <td>42599d98-752a-4fd8-a485-d8d03a753dbb</td>\n",
       "    </tr>\n",
       "    <tr>\n",
       "      <th>36</th>\n",
       "      <td>2019-11-01 00:00:13+00:00</td>\n",
       "      <td>view</td>\n",
       "      <td>15200565</td>\n",
       "      <td>2053013553484398879</td>\n",
       "      <td>NaN</td>\n",
       "      <td>hyper</td>\n",
       "      <td>54.06</td>\n",
       "      <td>518758107</td>\n",
       "      <td>f617be3c-8447-4aaf-b9b7-2e23a21a8b58</td>\n",
       "    </tr>\n",
       "    <tr>\n",
       "      <th>37</th>\n",
       "      <td>2019-11-01 00:00:13+00:00</td>\n",
       "      <td>view</td>\n",
       "      <td>4804194</td>\n",
       "      <td>2053013554658804075</td>\n",
       "      <td>electronics.audio.headphone</td>\n",
       "      <td>acme</td>\n",
       "      <td>69.24</td>\n",
       "      <td>565731881</td>\n",
       "      <td>5d8cb7aa-ca44-4705-809d-53c97b497e16</td>\n",
       "    </tr>\n",
       "    <tr>\n",
       "      <th>38</th>\n",
       "      <td>2019-11-01 00:00:13+00:00</td>\n",
       "      <td>view</td>\n",
       "      <td>3701016</td>\n",
       "      <td>2053013565983425517</td>\n",
       "      <td>appliances.environment.vacuum</td>\n",
       "      <td>tefal</td>\n",
       "      <td>108.09</td>\n",
       "      <td>566278257</td>\n",
       "      <td>5cafe67a-3c46-4b47-a46a-ab30de4356bc</td>\n",
       "    </tr>\n",
       "    <tr>\n",
       "      <th>39</th>\n",
       "      <td>2019-11-01 00:00:14+00:00</td>\n",
       "      <td>view</td>\n",
       "      <td>1002544</td>\n",
       "      <td>2053013555631882655</td>\n",
       "      <td>electronics.smartphone</td>\n",
       "      <td>apple</td>\n",
       "      <td>458.28</td>\n",
       "      <td>549256216</td>\n",
       "      <td>dcbdc6e4-cd49-4ee8-95c5-e85f3c618fa1</td>\n",
       "    </tr>\n",
       "    <tr>\n",
       "      <th>40</th>\n",
       "      <td>2019-11-01 00:00:14+00:00</td>\n",
       "      <td>cart</td>\n",
       "      <td>1005014</td>\n",
       "      <td>2053013555631882655</td>\n",
       "      <td>electronics.smartphone</td>\n",
       "      <td>samsung</td>\n",
       "      <td>503.09</td>\n",
       "      <td>533326659</td>\n",
       "      <td>6b928be2-2bce-4640-8296-0efdf2fda22a</td>\n",
       "    </tr>\n",
       "    <tr>\n",
       "      <th>41</th>\n",
       "      <td>2019-11-01 00:00:14+00:00</td>\n",
       "      <td>view</td>\n",
       "      <td>27800054</td>\n",
       "      <td>2079713978300236035</td>\n",
       "      <td>NaN</td>\n",
       "      <td>NaN</td>\n",
       "      <td>119.69</td>\n",
       "      <td>565131688</td>\n",
       "      <td>95c9377b-f56e-4775-ae49-abd8d952915b</td>\n",
       "    </tr>\n",
       "    <tr>\n",
       "      <th>42</th>\n",
       "      <td>2019-11-01 00:00:14+00:00</td>\n",
       "      <td>view</td>\n",
       "      <td>2201037</td>\n",
       "      <td>2053013560555995845</td>\n",
       "      <td>NaN</td>\n",
       "      <td>canon</td>\n",
       "      <td>437.29</td>\n",
       "      <td>517811633</td>\n",
       "      <td>97dc1638-90ea-450a-8499-a31fd8f2e9b1</td>\n",
       "    </tr>\n",
       "    <tr>\n",
       "      <th>43</th>\n",
       "      <td>2019-11-01 00:00:15+00:00</td>\n",
       "      <td>view</td>\n",
       "      <td>3901174</td>\n",
       "      <td>2053013552326770905</td>\n",
       "      <td>appliances.environment.water_heater</td>\n",
       "      <td>oasis</td>\n",
       "      <td>32.66</td>\n",
       "      <td>513200477</td>\n",
       "      <td>742aba02-727b-4d15-9222-6484ac846173</td>\n",
       "    </tr>\n",
       "    <tr>\n",
       "      <th>44</th>\n",
       "      <td>2019-11-01 00:00:15+00:00</td>\n",
       "      <td>view</td>\n",
       "      <td>4600603</td>\n",
       "      <td>2053013563944993659</td>\n",
       "      <td>appliances.kitchen.dishwasher</td>\n",
       "      <td>bosch</td>\n",
       "      <td>684.44</td>\n",
       "      <td>526595547</td>\n",
       "      <td>aab33a9a-29c3-4d50-84c1-8a2bc9256104</td>\n",
       "    </tr>\n",
       "    <tr>\n",
       "      <th>45</th>\n",
       "      <td>2019-11-01 00:00:16+00:00</td>\n",
       "      <td>view</td>\n",
       "      <td>4100297</td>\n",
       "      <td>2053013561218695907</td>\n",
       "      <td>NaN</td>\n",
       "      <td>sony</td>\n",
       "      <td>511.13</td>\n",
       "      <td>551977964</td>\n",
       "      <td>2058fb5d-047d-46a9-913f-b3b62f3b697c</td>\n",
       "    </tr>\n",
       "    <tr>\n",
       "      <th>46</th>\n",
       "      <td>2019-11-01 00:00:16+00:00</td>\n",
       "      <td>view</td>\n",
       "      <td>18100047</td>\n",
       "      <td>2053013557955527211</td>\n",
       "      <td>NaN</td>\n",
       "      <td>rezult</td>\n",
       "      <td>15.62</td>\n",
       "      <td>551078379</td>\n",
       "      <td>57dc2a56-6557-40c0-93b5-b4c7071d3866</td>\n",
       "    </tr>\n",
       "    <tr>\n",
       "      <th>47</th>\n",
       "      <td>2019-11-01 00:00:16+00:00</td>\n",
       "      <td>view</td>\n",
       "      <td>2300214</td>\n",
       "      <td>2053013560530830019</td>\n",
       "      <td>electronics.camera.video</td>\n",
       "      <td>NaN</td>\n",
       "      <td>386.08</td>\n",
       "      <td>537931532</td>\n",
       "      <td>22c57267-da98-4f28-9a9c-18bb5b385193</td>\n",
       "    </tr>\n",
       "    <tr>\n",
       "      <th>48</th>\n",
       "      <td>2019-11-01 00:00:16+00:00</td>\n",
       "      <td>view</td>\n",
       "      <td>26400585</td>\n",
       "      <td>2053013563651392361</td>\n",
       "      <td>NaN</td>\n",
       "      <td>lucente</td>\n",
       "      <td>248.66</td>\n",
       "      <td>533351761</td>\n",
       "      <td>6229f7bc-7440-44dc-8768-d924071fb879</td>\n",
       "    </tr>\n",
       "    <tr>\n",
       "      <th>49</th>\n",
       "      <td>2019-11-01 00:00:17+00:00</td>\n",
       "      <td>view</td>\n",
       "      <td>1005161</td>\n",
       "      <td>2053013555631882655</td>\n",
       "      <td>electronics.smartphone</td>\n",
       "      <td>xiaomi</td>\n",
       "      <td>211.92</td>\n",
       "      <td>513351129</td>\n",
       "      <td>e6b7ce9b-1938-4e20-976c-8b4163aea11d</td>\n",
       "    </tr>\n",
       "  </tbody>\n",
       "</table>\n",
       "</div>"
      ],
      "text/plain": [
       "                  event_time event_type  product_id          category_id  \\\n",
       "0  2019-11-01 00:00:00+00:00       view     1003461  2053013555631882655   \n",
       "1  2019-11-01 00:00:00+00:00       view     5000088  2053013566100866035   \n",
       "2  2019-11-01 00:00:01+00:00       view    17302664  2053013553853497655   \n",
       "3  2019-11-01 00:00:01+00:00       view     3601530  2053013563810775923   \n",
       "4  2019-11-01 00:00:01+00:00       view     1004775  2053013555631882655   \n",
       "5  2019-11-01 00:00:01+00:00       view     1306894  2053013558920217191   \n",
       "6  2019-11-01 00:00:01+00:00       view     1306421  2053013558920217191   \n",
       "7  2019-11-01 00:00:02+00:00       view    15900065  2053013558190408249   \n",
       "8  2019-11-01 00:00:02+00:00       view    12708937  2053013553559896355   \n",
       "9  2019-11-01 00:00:02+00:00       view     1004258  2053013555631882655   \n",
       "10 2019-11-01 00:00:03+00:00       view    17200570  2053013559792632471   \n",
       "11 2019-11-01 00:00:03+00:00       view     2701517  2053013563911439225   \n",
       "12 2019-11-01 00:00:03+00:00       view    16700260  2053013559901684381   \n",
       "13 2019-11-01 00:00:04+00:00       view    34600011  2060981320581906480   \n",
       "14 2019-11-01 00:00:05+00:00       view     4600658  2053013563944993659   \n",
       "15 2019-11-01 00:00:06+00:00       view    24900193  2053013562183385881   \n",
       "16 2019-11-01 00:00:07+00:00       view    27400066  2053013563391345499   \n",
       "17 2019-11-01 00:00:07+00:00       view     5100503  2053013553375346967   \n",
       "18 2019-11-01 00:00:07+00:00       view     1004566  2053013555631882655   \n",
       "19 2019-11-01 00:00:08+00:00       view     1307115  2053013558920217191   \n",
       "20 2019-11-01 00:00:08+00:00       view    12719154  2053013553559896355   \n",
       "21 2019-11-01 00:00:08+00:00       view     1004708  2053013555631882655   \n",
       "22 2019-11-01 00:00:08+00:00       view    26022534  2053013562837697343   \n",
       "23 2019-11-01 00:00:08+00:00       view    17200558  2053013559792632471   \n",
       "24 2019-11-01 00:00:09+00:00       view    17300016  2053013553853497655   \n",
       "25 2019-11-01 00:00:09+00:00       view    26019863  2053013562837697343   \n",
       "26 2019-11-01 00:00:09+00:00       view    17501048  2053013558752445019   \n",
       "27 2019-11-01 00:00:10+00:00       view     1005115  2053013555631882655   \n",
       "28 2019-11-01 00:00:10+00:00       view     1307350  2053013558920217191   \n",
       "29 2019-11-01 00:00:11+00:00       view     1307340  2053013558920217191   \n",
       "30 2019-11-01 00:00:11+00:00       view    41100055  2090228413959766319   \n",
       "31 2019-11-01 00:00:12+00:00       view    16700826  2053013559901684381   \n",
       "32 2019-11-01 00:00:12+00:00       view    30100041  2053013556110033341   \n",
       "33 2019-11-01 00:00:12+00:00       view    22700205  2053013556168753601   \n",
       "34 2019-11-01 00:00:12+00:00       view    10800182  2053013554994348409   \n",
       "35 2019-11-01 00:00:12+00:00       view    52000058  2137704922018218396   \n",
       "36 2019-11-01 00:00:13+00:00       view    15200565  2053013553484398879   \n",
       "37 2019-11-01 00:00:13+00:00       view     4804194  2053013554658804075   \n",
       "38 2019-11-01 00:00:13+00:00       view     3701016  2053013565983425517   \n",
       "39 2019-11-01 00:00:14+00:00       view     1002544  2053013555631882655   \n",
       "40 2019-11-01 00:00:14+00:00       cart     1005014  2053013555631882655   \n",
       "41 2019-11-01 00:00:14+00:00       view    27800054  2079713978300236035   \n",
       "42 2019-11-01 00:00:14+00:00       view     2201037  2053013560555995845   \n",
       "43 2019-11-01 00:00:15+00:00       view     3901174  2053013552326770905   \n",
       "44 2019-11-01 00:00:15+00:00       view     4600603  2053013563944993659   \n",
       "45 2019-11-01 00:00:16+00:00       view     4100297  2053013561218695907   \n",
       "46 2019-11-01 00:00:16+00:00       view    18100047  2053013557955527211   \n",
       "47 2019-11-01 00:00:16+00:00       view     2300214  2053013560530830019   \n",
       "48 2019-11-01 00:00:16+00:00       view    26400585  2053013563651392361   \n",
       "49 2019-11-01 00:00:17+00:00       view     1005161  2053013555631882655   \n",
       "\n",
       "                          category_code      brand   price    user_id  \\\n",
       "0                electronics.smartphone     xiaomi  489.07  520088904   \n",
       "1             appliances.sewing_machine     janome  293.65  530496790   \n",
       "2                                   NaN      creed   28.31  561587266   \n",
       "3             appliances.kitchen.washer         lg  712.87  518085591   \n",
       "4                electronics.smartphone     xiaomi  183.27  558856683   \n",
       "5                    computers.notebook         hp  360.09  520772685   \n",
       "6                    computers.notebook         hp  514.56  514028527   \n",
       "7                                   NaN    rondell   30.86  518574284   \n",
       "8                                   NaN   michelin   72.72  532364121   \n",
       "9                electronics.smartphone      apple  732.07  532647354   \n",
       "10           furniture.living_room.sofa        NaN  437.33  518780843   \n",
       "11     appliances.kitchen.refrigerators        NaN  155.11  518427361   \n",
       "12              furniture.kitchen.chair        NaN   31.64  566255262   \n",
       "13                                  NaN        NaN   20.54  512416379   \n",
       "14        appliances.kitchen.dishwasher    samsung  411.83  526595547   \n",
       "15                                  NaN        NaN    1.09  512651494   \n",
       "16                                  NaN        NaN    8.55  551061950   \n",
       "17                                  NaN     xiaomi   22.68  520037415   \n",
       "18               electronics.smartphone     huawei  164.84  566265908   \n",
       "19                   computers.notebook         hp  411.59  514028527   \n",
       "20                                  NaN   yokohama   88.81  512376444   \n",
       "21               electronics.smartphone     huawei  151.99  566143627   \n",
       "22                                  NaN        NaN    7.07  566280860   \n",
       "23           furniture.living_room.sofa        NaN  591.78  566280536   \n",
       "24                                  NaN  trussardi   55.33  563769246   \n",
       "25                                  NaN        NaN   11.79  566280860   \n",
       "26                                  NaN    eveline    7.59  515849878   \n",
       "27               electronics.smartphone      apple  949.47  562079864   \n",
       "28                   computers.notebook       acer  514.79  513741043   \n",
       "29                   computers.notebook       asus  360.34  520772685   \n",
       "30                                  NaN        NaN   38.07  562234311   \n",
       "31              furniture.kitchen.chair       nika   47.77  566255262   \n",
       "32                                  NaN        NaN   23.40  532704496   \n",
       "33                                  NaN     matrix   23.14  564599988   \n",
       "34                                  NaN    redmond   61.10  527322328   \n",
       "35                                  NaN    tomfarr  127.42  517702267   \n",
       "36                                  NaN      hyper   54.06  518758107   \n",
       "37          electronics.audio.headphone       acme   69.24  565731881   \n",
       "38        appliances.environment.vacuum      tefal  108.09  566278257   \n",
       "39               electronics.smartphone      apple  458.28  549256216   \n",
       "40               electronics.smartphone    samsung  503.09  533326659   \n",
       "41                                  NaN        NaN  119.69  565131688   \n",
       "42                                  NaN      canon  437.29  517811633   \n",
       "43  appliances.environment.water_heater      oasis   32.66  513200477   \n",
       "44        appliances.kitchen.dishwasher      bosch  684.44  526595547   \n",
       "45                                  NaN       sony  511.13  551977964   \n",
       "46                                  NaN     rezult   15.62  551078379   \n",
       "47             electronics.camera.video        NaN  386.08  537931532   \n",
       "48                                  NaN    lucente  248.66  533351761   \n",
       "49               electronics.smartphone     xiaomi  211.92  513351129   \n",
       "\n",
       "                            user_session  \n",
       "0   4d3b30da-a5e4-49df-b1a8-ba5943f1dd33  \n",
       "1   8e5f4f83-366c-4f70-860e-ca7417414283  \n",
       "2   755422e7-9040-477b-9bd2-6a6e8fd97387  \n",
       "3   3bfb58cd-7892-48cc-8020-2f17e6de6e7f  \n",
       "4   313628f1-68b8-460d-84f6-cec7a8796ef2  \n",
       "5   816a59f3-f5ae-4ccd-9b23-82aa8c23d33c  \n",
       "6   df8184cc-3694-4549-8c8c-6b5171877376  \n",
       "7   5e6ef132-4d7c-4730-8c7f-85aa4082588f  \n",
       "8   0a899268-31eb-46de-898d-09b2da950b24  \n",
       "9   d2d3d2c6-631d-489e-9fb5-06f340b85be0  \n",
       "10  aa806835-b14c-45af-9538-cd4d1849be3e  \n",
       "11  c89b0d96-247f-4044-9c91-bb5f38c6af9b  \n",
       "12  173d7b72-1db7-4638-8207-be8148bf3c9f  \n",
       "13  4dfe2c67-e537-4dc2-ae69-0b65263db091  \n",
       "14  aab33a9a-29c3-4d50-84c1-8a2bc9256104  \n",
       "15  f603c815-f51a-46fe-9404-cb586e35edaf  \n",
       "16  3f6112f1-5695-4e88-bb0a-49f9e36658ff  \n",
       "17  f54fa96a-f3f2-43ac-99a4-fcb2a449dd36  \n",
       "18  52c2c76c-b79e-4794-86ff-badc76d35f5a  \n",
       "19  df8184cc-3694-4549-8c8c-6b5171877376  \n",
       "20  f7e8ffaa-5103-47f3-90ab-c30f313770c0  \n",
       "21  aa610ab3-5c60-4551-8a2b-8c999dddf843  \n",
       "22  341a87d8-8cf4-4b4a-8b7d-749380697af1  \n",
       "23  34e7a822-0b93-4a9a-8ce0-bae4cadb21d8  \n",
       "24  95ab5d5d-be19-4118-84e9-534d65b7a687  \n",
       "25  341a87d8-8cf4-4b4a-8b7d-749380697af1  \n",
       "26  31e80b9c-e5b3-437b-9112-c2a110e5c38a  \n",
       "27  0fe64462-83eb-4131-ab00-8e764dd995c3  \n",
       "28  82f7f972-346a-41f1-ae58-3ccf1edf6726  \n",
       "29  816a59f3-f5ae-4ccd-9b23-82aa8c23d33c  \n",
       "30  4cbd502f-b1df-4bcf-a1cb-78bb18c37e70  \n",
       "31  173d7b72-1db7-4638-8207-be8148bf3c9f  \n",
       "32  cf2c87cc-a4ea-4c98-add1-f916c68e86ca  \n",
       "33  d67efe84-f47e-44dd-8abf-a9122c706acd  \n",
       "34  5054190a-46cb-4211-a8f1-16fc1a060ed8  \n",
       "35  42599d98-752a-4fd8-a485-d8d03a753dbb  \n",
       "36  f617be3c-8447-4aaf-b9b7-2e23a21a8b58  \n",
       "37  5d8cb7aa-ca44-4705-809d-53c97b497e16  \n",
       "38  5cafe67a-3c46-4b47-a46a-ab30de4356bc  \n",
       "39  dcbdc6e4-cd49-4ee8-95c5-e85f3c618fa1  \n",
       "40  6b928be2-2bce-4640-8296-0efdf2fda22a  \n",
       "41  95c9377b-f56e-4775-ae49-abd8d952915b  \n",
       "42  97dc1638-90ea-450a-8499-a31fd8f2e9b1  \n",
       "43  742aba02-727b-4d15-9222-6484ac846173  \n",
       "44  aab33a9a-29c3-4d50-84c1-8a2bc9256104  \n",
       "45  2058fb5d-047d-46a9-913f-b3b62f3b697c  \n",
       "46  57dc2a56-6557-40c0-93b5-b4c7071d3866  \n",
       "47  22c57267-da98-4f28-9a9c-18bb5b385193  \n",
       "48  6229f7bc-7440-44dc-8768-d924071fb879  \n",
       "49  e6b7ce9b-1938-4e20-976c-8b4163aea11d  "
      ]
     },
     "execution_count": 3,
     "metadata": {},
     "output_type": "execute_result"
    }
   ],
   "source": [
    "df.head(50)"
   ]
  },
  {
   "cell_type": "markdown",
   "id": "a707f0bf",
   "metadata": {},
   "source": [
    "# 데이터 전처리"
   ]
  },
  {
   "cell_type": "markdown",
   "id": "90bf6e03",
   "metadata": {},
   "source": [
    "데이터 전처리는 pandas로 진행하기로 결정하였다. 로컬로 작업하여 10GB 이내의 csv 파일은 충분히 활용가능하다고 판단하였다."
   ]
  },
  {
   "cell_type": "code",
   "execution_count": 4,
   "id": "27032ed1",
   "metadata": {},
   "outputs": [
    {
     "name": "stdout",
     "output_type": "stream",
     "text": [
      "<class 'pandas.core.frame.DataFrame'>\n",
      "RangeIndex: 67501979 entries, 0 to 67501978\n",
      "Data columns (total 9 columns):\n",
      " #   Column         Dtype              \n",
      "---  ------         -----              \n",
      " 0   event_time     datetime64[ns, UTC]\n",
      " 1   event_type     object             \n",
      " 2   product_id     int64              \n",
      " 3   category_id    int64              \n",
      " 4   category_code  object             \n",
      " 5   brand          object             \n",
      " 6   price          float64            \n",
      " 7   user_id        int64              \n",
      " 8   user_session   object             \n",
      "dtypes: datetime64[ns, UTC](1), float64(1), int64(3), object(4)\n",
      "memory usage: 4.5+ GB\n"
     ]
    }
   ],
   "source": [
    "df.info()"
   ]
  },
  {
   "cell_type": "code",
   "execution_count": 5,
   "id": "c701fd02",
   "metadata": {},
   "outputs": [
    {
     "data": {
      "text/plain": [
       "event_time              0\n",
       "event_type              0\n",
       "product_id              0\n",
       "category_id             0\n",
       "category_code    21898171\n",
       "brand             9224078\n",
       "price                   0\n",
       "user_id                 0\n",
       "user_session           10\n",
       "dtype: int64"
      ]
     },
     "execution_count": 5,
     "metadata": {},
     "output_type": "execute_result"
    }
   ],
   "source": [
    "df.isnull().sum()"
   ]
  },
  {
   "cell_type": "markdown",
   "id": "4f544e6a",
   "metadata": {},
   "source": [
    "사용자 추적에 있어서 필요한 정보인 user_session이 결측치인 row는 제거하고 int 타입이라 해석에 어려움이 있는 category_id 또한 제거한다."
   ]
  },
  {
   "cell_type": "code",
   "execution_count": 45,
   "id": "f999babf",
   "metadata": {},
   "outputs": [],
   "source": [
    "def csv_read(csv_name):\n",
    "    \n",
    "    df = pd.read_csv(f'{csv_name}.csv', parse_dates=['event_time'], index_col=0)\n",
    "    \n",
    "    if 'category_id' in df.columns:\n",
    "        \n",
    "        df = df.drop('category_id', axis=1)\n",
    "    \n",
    "    if len(df[df.user_session.isnull() == True]) != 0:\n",
    "        \n",
    "        df = df.drop(df[df.user_session.isnull() == True].index)\n",
    "        \n",
    "    if df['user_session'].dtypes == 'object':\n",
    "        \n",
    "        le = LabelEncoder()\n",
    "        df['user_session'] = le.fit_transform(df['user_session'])\n",
    "    \n",
    "    df['event_type'] = df['event_type'].astype('category')\n",
    "    df['category_code'] = df['category_code'].astype('category')\n",
    "    df['brand'] = df['brand'].astype('category')\n",
    "    df['product_id'] = df['product_id'].astype('int32')\n",
    "    df['user_id'] = df['user_id'].astype('int32')\n",
    "    df['price'] = df['price'].astype('float32')\n",
    "    df['user_session'] = df['user_session'].astype('int32')\n",
    "    \n",
    "    df = df.reset_index(drop=True)\n",
    "    \n",
    "    return df"
   ]
  },
  {
   "cell_type": "code",
   "execution_count": 47,
   "id": "d81b7710",
   "metadata": {},
   "outputs": [],
   "source": [
    "df = csv_read('2019-Nov')"
   ]
  },
  {
   "cell_type": "code",
   "execution_count": 52,
   "id": "d2d005f7",
   "metadata": {
    "scrolled": true
   },
   "outputs": [
    {
     "name": "stdout",
     "output_type": "stream",
     "text": [
      "<class 'pandas.core.frame.DataFrame'>\n",
      "RangeIndex: 67501969 entries, 0 to 67501968\n",
      "Data columns (total 8 columns):\n",
      " #   Column         Dtype              \n",
      "---  ------         -----              \n",
      " 0   event_time     datetime64[ns, UTC]\n",
      " 1   event_type     category           \n",
      " 2   product_id     int32              \n",
      " 3   category_code  category           \n",
      " 4   brand          category           \n",
      " 5   price          float32            \n",
      " 6   user_id        int32              \n",
      " 7   user_session   int32              \n",
      "dtypes: category(3), datetime64[ns, UTC](1), float32(1), int32(3)\n",
      "memory usage: 1.8 GB\n"
     ]
    }
   ],
   "source": [
    "df.info()"
   ]
  },
  {
   "cell_type": "markdown",
   "id": "611c541d",
   "metadata": {},
   "source": [
    "데이터 경량화를 통해 메모리 사용량을 현저히 감소시켰다."
   ]
  },
  {
   "cell_type": "markdown",
   "id": "cab6e5ba",
   "metadata": {},
   "source": [
    "# seaborn 초기 설정"
   ]
  },
  {
   "cell_type": "code",
   "execution_count": 57,
   "id": "997f8f4a",
   "metadata": {},
   "outputs": [],
   "source": [
    "sns.set(rc = {'figure.figsize':(15,8)})\n",
    "sns.set_style(\"ticks\")\n",
    "sns.set_context(\"notebook\")\n",
    "blues = sns.color_palette(\"Blues\", as_cmap=True)"
   ]
  },
  {
   "cell_type": "markdown",
   "id": "bd66fa58",
   "metadata": {},
   "source": [
    "# Pandas"
   ]
  },
  {
   "cell_type": "markdown",
   "id": "8cd3c4b6",
   "metadata": {},
   "source": [
    "# EDA"
   ]
  },
  {
   "cell_type": "code",
   "execution_count": 20,
   "id": "96800611",
   "metadata": {},
   "outputs": [
    {
     "data": {
      "text/plain": [
       "view        0.941544\n",
       "cart        0.044872\n",
       "purchase    0.013584\n",
       "Name: event_type, dtype: float64"
      ]
     },
     "execution_count": 20,
     "metadata": {},
     "output_type": "execute_result"
    }
   ],
   "source": [
    "df['event_type'].value_counts(normalize=True)"
   ]
  },
  {
   "cell_type": "markdown",
   "id": "484ce210",
   "metadata": {},
   "source": [
    "view, cart, purchase로 사용자의 행동이 기록되고 있다."
   ]
  },
  {
   "cell_type": "code",
   "execution_count": 22,
   "id": "903ec4c9",
   "metadata": {},
   "outputs": [
    {
     "data": {
      "text/plain": [
       "130"
      ]
     },
     "execution_count": 22,
     "metadata": {},
     "output_type": "execute_result"
    }
   ],
   "source": [
    "len(df['category_code'].unique())"
   ]
  },
  {
   "cell_type": "code",
   "execution_count": 32,
   "id": "924d2218",
   "metadata": {},
   "outputs": [
    {
     "data": {
      "text/plain": [
       "electronics.smartphone              16375000\n",
       "electronics.video.tv                 2208046\n",
       "computers.notebook                   2180554\n",
       "electronics.clocks                   2086966\n",
       "apparel.shoes                        1886890\n",
       "electronics.audio.headphone          1816877\n",
       "appliances.environment.vacuum        1528058\n",
       "appliances.kitchen.refrigerators     1427162\n",
       "appliances.kitchen.washer            1403866\n",
       "computers.desktop                     690502\n",
       "Name: category_code, dtype: int64"
      ]
     },
     "execution_count": 32,
     "metadata": {},
     "output_type": "execute_result"
    }
   ],
   "source": [
    "temp = df['category_code'].value_counts().head(10)\n",
    "temp"
   ]
  },
  {
   "cell_type": "markdown",
   "id": "fdbb5b23",
   "metadata": {},
   "source": [
    "카테고리는 130개로 구분되며 스마트폰, TV, 노트북등 가전제품들이 많은 관심을 받았다."
   ]
  },
  {
   "cell_type": "code",
   "execution_count": 28,
   "id": "1b23c2ac",
   "metadata": {},
   "outputs": [
    {
     "data": {
      "image/png": "[encoded data removed]",
      "text/plain": [
       "<Figure size 1500x800 with 1 Axes>"
      ]
     },
     "metadata": {},
     "output_type": "display_data"
    }
   ],
   "source": [
    "sns.barplot(x=[s.split('.')[-1] for s in temp.index], y=temp);"
   ]
  },
  {
   "cell_type": "markdown",
   "id": "888e81dc",
   "metadata": {},
   "source": [
    "모든 event_type에 대한 누적값이 높은 상품들의 순위는 이러했다. 하지만 이 값은 view, cart를 포함한 수치라 실질적인 구매로 이어진지는 알수가 없다."
   ]
  },
  {
   "cell_type": "code",
   "execution_count": 40,
   "id": "8115a88a",
   "metadata": {},
   "outputs": [
    {
     "data": {
      "text/plain": [
       "electronics.smartphone              382647\n",
       "electronics.audio.headphone          40834\n",
       "electronics.video.tv                 30274\n",
       "electronics.clocks                   23237\n",
       "appliances.kitchen.washer            19772\n",
       "computers.notebook                   18433\n",
       "appliances.environment.vacuum        18193\n",
       "appliances.kitchen.refrigerators     13042\n",
       "apparel.shoes                        10140\n",
       "electronics.tablet                    6138\n",
       "Name: category_code, dtype: int64"
      ]
     },
     "execution_count": 40,
     "metadata": {},
     "output_type": "execute_result"
    }
   ],
   "source": [
    "temp = df['category_code'][df.event_type == 'purchase'].value_counts().head(10)\n",
    "temp"
   ]
  },
  {
   "cell_type": "code",
   "execution_count": 41,
   "id": "f11a6f42",
   "metadata": {},
   "outputs": [
    {
     "data": {
      "image/png": "[encoded data removed]",
      "text/plain": [
       "<Figure size 1500x800 with 1 Axes>"
      ]
     },
     "metadata": {},
     "output_type": "display_data"
    }
   ],
   "source": [
    "sns.barplot(x=[s.split('.')[-1] for s in temp.index], y=temp);"
   ]
  },
  {
   "cell_type": "markdown",
   "id": "e6d1ad4f",
   "metadata": {},
   "source": [
    "event_type이 purchase에 한정한 카테고리의 순위이다. 대체적으로 view에 비례하지만 smartphone을 제외한 나머지 카테고리의 실구매율이 더 낮아진 것으로 확인된다."
   ]
  },
  {
   "cell_type": "code",
   "execution_count": 56,
   "id": "ff50163d",
   "metadata": {},
   "outputs": [
    {
     "data": {
      "text/plain": [
       "kids.fmcg.diapers               0.025788\n",
       "electronics.smartphone          0.023927\n",
       "electronics.audio.headphone     0.022992\n",
       "appliances.kitchen.microwave    0.017089\n",
       "appliances.personal.scales      0.016881\n",
       "                                  ...   \n",
       "apparel.underwear               0.001764\n",
       "construction.tools.soldering    0.001705\n",
       "apparel.shoes.slipons           0.001606\n",
       "apparel.dress                   0.001161\n",
       "apparel.skirt                   0.001133\n",
       "Name: category_code, Length: 126, dtype: float64"
      ]
     },
     "execution_count": 56,
     "metadata": {},
     "output_type": "execute_result"
    }
   ],
   "source": [
    "temp = df['category_code'][df.event_type == 'purchase'].value_counts() / df['category_code'][df.event_type != 'purchase'].value_counts()\n",
    "temp = temp.sort_values(ascending=False).dropna()\n",
    "temp"
   ]
  },
  {
   "cell_type": "code",
   "execution_count": 57,
   "id": "501f615e",
   "metadata": {},
   "outputs": [
    {
     "data": {
      "image/png": "[encoded data removed]",
      "text/plain": [
       "<Figure size 1500x800 with 1 Axes>"
      ]
     },
     "metadata": {},
     "output_type": "display_data"
    }
   ],
   "source": [
    "sns.barplot(x=[s.split('.')[-1] for s in temp.head(10).index], y=temp.head(10));"
   ]
  },
  {
   "cell_type": "markdown",
   "id": "5b81769d",
   "metadata": {},
   "source": [
    "실구매율을 확인했을때 높은 순위이다. 기저귀의 경우 스마트폰을 넘어 1위를 차지하였는데 단순 검색이 아닌 구매를 위해 검색을 하는 비율이 다른 항목에 비해 높은 것이 그 이유라 추측하였다."
   ]
  },
  {
   "cell_type": "code",
   "execution_count": 58,
   "id": "2260286d",
   "metadata": {},
   "outputs": [
    {
     "data": {
      "image/png": "[encoded data removed]",
      "text/plain": [
       "<Figure size 1500x800 with 1 Axes>"
      ]
     },
     "metadata": {},
     "output_type": "display_data"
    }
   ],
   "source": [
    "sns.barplot(x=[s.split('.')[-1] for s in temp.tail(10).index], y=temp.tail(10));"
   ]
  },
  {
   "cell_type": "markdown",
   "id": "46390c94",
   "metadata": {},
   "source": [
    "실구매율을 확인했을때 낮은 순위이다. 패션에 관련된 물품들이 실구매율이 낮게 나왔다. "
   ]
  },
  {
   "cell_type": "code",
   "execution_count": 29,
   "id": "5937a750",
   "metadata": {
    "scrolled": true
   },
   "outputs": [
    {
     "data": {
      "text/plain": [
       "samsung    7889245\n",
       "apple      6259379\n",
       "xiaomi     4638062\n",
       "huawei     1410126\n",
       "lucente    1185075\n",
       "lg         1096990\n",
       "bosch       975059\n",
       "oppo        811698\n",
       "sony        798457\n",
       "respect     765331\n",
       "Name: brand, dtype: int64"
      ]
     },
     "execution_count": 29,
     "metadata": {},
     "output_type": "execute_result"
    }
   ],
   "source": [
    "temp = df['brand'].value_counts().head(10)\n",
    "temp"
   ]
  },
  {
   "cell_type": "code",
   "execution_count": 30,
   "id": "1044ca34",
   "metadata": {},
   "outputs": [
    {
     "data": {
      "image/png": "[encoded data removed]",
      "text/plain": [
       "<Figure size 1500x800 with 1 Axes>"
      ]
     },
     "metadata": {},
     "output_type": "display_data"
    }
   ],
   "source": [
    "sns.barplot(x=temp.index, y=temp);"
   ]
  },
  {
   "cell_type": "markdown",
   "id": "2da45c89",
   "metadata": {},
   "source": [
    "가장 인기있는 브랜드의 순위이다. 1,2,3위 모두 스마트폰이 주력인 브랜드이다."
   ]
  },
  {
   "cell_type": "code",
   "execution_count": 9,
   "id": "c8b9a29a",
   "metadata": {},
   "outputs": [
    {
     "data": {
      "text/plain": [
       "18.26294432779049"
      ]
     },
     "execution_count": 9,
     "metadata": {},
     "output_type": "execute_result"
    }
   ],
   "source": [
    "df['user_id'].value_counts().mean()"
   ]
  },
  {
   "cell_type": "markdown",
   "id": "f695b159",
   "metadata": {},
   "source": [
    "평균적으로 한 고객은 한달동안 18번의 행동을 하였다."
   ]
  },
  {
   "cell_type": "code",
   "execution_count": 25,
   "id": "9c93ba55",
   "metadata": {},
   "outputs": [
    {
     "data": {
      "text/plain": [
       "300.1234438714026"
      ]
     },
     "execution_count": 25,
     "metadata": {},
     "output_type": "execute_result"
    }
   ],
   "source": [
    "df['price'][df.event_type == 'purchase'].mean()"
   ]
  },
  {
   "cell_type": "markdown",
   "id": "7c74429e",
   "metadata": {},
   "source": [
    "고객들이 결제할때의 가격의 평균은 300달러이다."
   ]
  },
  {
   "cell_type": "code",
   "execution_count": 41,
   "id": "0b0a68bf",
   "metadata": {},
   "outputs": [
    {
     "data": {
      "text/plain": [
       "0.11948701840336765"
      ]
     },
     "execution_count": 41,
     "metadata": {},
     "output_type": "execute_result"
    }
   ],
   "source": [
    "len(set(df['user_id'][df.event_type == 'purchase'])) / len(df['user_id'].unique())"
   ]
  },
  {
   "cell_type": "markdown",
   "id": "8392aeb4",
   "metadata": {},
   "source": [
    "12퍼정도의 고객만 결제를 한다."
   ]
  },
  {
   "cell_type": "code",
   "execution_count": 65,
   "id": "42a04805",
   "metadata": {},
   "outputs": [],
   "source": [
    "df = df[df.category_code == 'electronics.smartphone'].drop('category_code', axis=1).reset_index(drop=True)"
   ]
  },
  {
   "cell_type": "code",
   "execution_count": 66,
   "id": "887ed308",
   "metadata": {},
   "outputs": [
    {
     "data": {
      "text/plain": [
       "0.24258548034569474"
      ]
     },
     "execution_count": 66,
     "metadata": {},
     "output_type": "execute_result"
    }
   ],
   "source": [
    "df.shape[0] / 67501979"
   ]
  },
  {
   "cell_type": "markdown",
   "id": "b04ed4b0",
   "metadata": {},
   "source": [
    "스마트폰이 모든 event의 24%를 기록하고 있었다."
   ]
  },
  {
   "cell_type": "markdown",
   "id": "d8af80b9",
   "metadata": {},
   "source": [
    "# Spark"
   ]
  },
  {
   "cell_type": "markdown",
   "id": "50a41b0c",
   "metadata": {},
   "source": [
    "SQL 구문을 이용"
   ]
  },
  {
   "cell_type": "code",
   "execution_count": 3,
   "id": "baa2c813",
   "metadata": {},
   "outputs": [
    {
     "data": {
      "text/plain": [
       "'3.3.1'"
      ]
     },
     "execution_count": 3,
     "metadata": {},
     "output_type": "execute_result"
    }
   ],
   "source": [
    "os.environ['PYSPARK_PYTHON'] = sys.executable\n",
    "os.environ['PYSPARK_DRIVER_PYTHON'] = sys.executable\n",
    "conf_spark = SparkConf().set(\"spark.driver.host\", \"127.0.0.1\")\n",
    "sc = SparkContext(conf=conf_spark)\n",
    "sc.version"
   ]
  },
  {
   "cell_type": "code",
   "execution_count": 4,
   "id": "4839b567",
   "metadata": {},
   "outputs": [
    {
     "data": {
      "text/html": [
       "\n",
       "            <div>\n",
       "                <p><b>SparkSession - in-memory</b></p>\n",
       "                \n",
       "        <div>\n",
       "            <p><b>SparkContext</b></p>\n",
       "\n",
       "            <p><a href=\"http://127.0.0.1:4040\">Spark UI</a></p>\n",
       "\n",
       "            <dl>\n",
       "              <dt>Version</dt>\n",
       "                <dd><code>v3.3.1</code></dd>\n",
       "              <dt>Master</dt>\n",
       "                <dd><code>local[*]</code></dd>\n",
       "              <dt>AppName</dt>\n",
       "                <dd><code>pyspark-shell</code></dd>\n",
       "            </dl>\n",
       "        </div>\n",
       "        \n",
       "            </div>\n",
       "        "
      ],
      "text/plain": [
       "<pyspark.sql.session.SparkSession at 0x1a2d26ea208>"
      ]
     },
     "execution_count": 4,
     "metadata": {},
     "output_type": "execute_result"
    }
   ],
   "source": [
    "spark = SparkSession.builder.master(\"local[1]\").appName(\"CP1\").getOrCreate()\n",
    "spark"
   ]
  },
  {
   "cell_type": "code",
   "execution_count": 5,
   "id": "fc969204",
   "metadata": {},
   "outputs": [],
   "source": [
    "sparkDF = (spark.read.format(\"csv\").options(header=\"true\").load(\"df.csv\"))\n",
    "sparkDF = sparkDF.withColumnRenamed('_c0', 'index')\n",
    "\n",
    "for i in ['index', 'product_id', 'user_id', 'user_session']:\n",
    "    sparkDF = sparkDF.withColumn(i, sparkDF[i].cast('int'))\n",
    "\n",
    "sparkDF = sparkDF.withColumn('price', sparkDF['price'].cast('float'))\n",
    "sparkDF = sparkDF.withColumn('event_time', sparkDF['event_time'].cast('timestamp'))"
   ]
  },
  {
   "cell_type": "code",
   "execution_count": 239,
   "id": "a36c03d5",
   "metadata": {},
   "outputs": [
    {
     "name": "stdout",
     "output_type": "stream",
     "text": [
      "root\n",
      " |-- event_time: timestamp (nullable = true)\n",
      " |-- event_type: string (nullable = true)\n",
      " |-- product_id: string (nullable = true)\n",
      " |-- category_id: string (nullable = true)\n",
      " |-- category_code: string (nullable = true)\n",
      " |-- brand: string (nullable = true)\n",
      " |-- price: float (nullable = true)\n",
      " |-- user_id: string (nullable = true)\n",
      " |-- user_session: string (nullable = true)\n",
      "\n"
     ]
    }
   ],
   "source": [
    "sparkDF.printSchema()"
   ]
  },
  {
   "cell_type": "code",
   "execution_count": 6,
   "id": "8d19ad93",
   "metadata": {},
   "outputs": [],
   "source": [
    "sparkDF.createOrReplaceGlobalTempView('df')"
   ]
  },
  {
   "cell_type": "code",
   "execution_count": 8,
   "id": "66a9045f",
   "metadata": {},
   "outputs": [
    {
     "name": "stdout",
     "output_type": "stream",
     "text": [
      "+-----+-------------------+----------+----------+--------------------+--------+------+---------+------------+\n",
      "|index|         event_time|event_type|product_id|       category_code|   brand| price|  user_id|user_session|\n",
      "+-----+-------------------+----------+----------+--------------------+--------+------+---------+------------+\n",
      "|    0|2019-11-01 09:00:00|      view|   1003461|electronics.smart...|  xiaomi|489.07|520088904|     4156059|\n",
      "|    1|2019-11-01 09:00:00|      view|   5000088|appliances.sewing...|  janome|293.65|530496790|     7664389|\n",
      "|    2|2019-11-01 09:00:01|      view|  17302664|                null|   creed| 28.31|561587266|     6315299|\n",
      "|    3|2019-11-01 09:00:01|      view|   3601530|appliances.kitche...|      lg|712.87|518085591|     3228754|\n",
      "|    4|2019-11-01 09:00:01|      view|   1004775|electronics.smart...|  xiaomi|183.27|558856683|     2648540|\n",
      "|    5|2019-11-01 09:00:01|      view|   1306894|  computers.notebook|      hp|360.09|520772685|     6967266|\n",
      "|    6|2019-11-01 09:00:01|      view|   1306421|  computers.notebook|      hp|514.56|514028527|    12027856|\n",
      "|    7|2019-11-01 09:00:02|      view|  15900065|                null| rondell| 30.86|518574284|     5082325|\n",
      "|    8|2019-11-01 09:00:02|      view|  12708937|                null|michelin| 72.72|532364121|      566886|\n",
      "|    9|2019-11-01 09:00:02|      view|   1004258|electronics.smart...|   apple|732.07|532647354|    11346131|\n",
      "|   10|2019-11-01 09:00:03|      view|  17200570|furniture.living_...|    null|437.33|518780843|     9177938|\n",
      "|   11|2019-11-01 09:00:03|      view|   2701517|appliances.kitche...|    null|155.11|518427361|    10795130|\n",
      "|   12|2019-11-01 09:00:03|      view|  16700260|furniture.kitchen...|    null| 31.64|566255262|     1251395|\n",
      "|   13|2019-11-01 09:00:04|      view|  34600011|                null|    null| 20.54|512416379|     4196931|\n",
      "|   14|2019-11-01 09:00:05|      view|   4600658|appliances.kitche...| samsung|411.83|526595547|     9188668|\n",
      "|   15|2019-11-01 09:00:06|      view|  24900193|                null|    null|  1.09|512651494|    13237858|\n",
      "|   16|2019-11-01 09:00:07|      view|  27400066|                null|    null|  8.55|551061950|     3411198|\n",
      "|   17|2019-11-01 09:00:07|      view|   5100503|                null|  xiaomi| 22.68|520037415|    13200239|\n",
      "|   18|2019-11-01 09:00:07|      view|   1004566|electronics.smart...|  huawei|164.84|566265908|     4453839|\n",
      "|   19|2019-11-01 09:00:08|      view|   1307115|  computers.notebook|      hp|411.59|514028527|    12027856|\n",
      "+-----+-------------------+----------+----------+--------------------+--------+------+---------+------------+\n",
      "only showing top 20 rows\n",
      "\n"
     ]
    }
   ],
   "source": [
    "spark.sql('SELECT * from global_temp.df').show()"
   ]
  },
  {
   "cell_type": "markdown",
   "id": "b5ddf011",
   "metadata": {},
   "source": [
    "# 카테고리 분석"
   ]
  },
  {
   "cell_type": "code",
   "execution_count": null,
   "id": "8036ca6b",
   "metadata": {},
   "outputs": [],
   "source": [
    "temp = spark.sql('''SELECT category_code,\n",
    "                    round(sum(price), 1) as sum\n",
    "                    from global_temp.df \n",
    "                    where event_type=\"purchase\" \n",
    "                    group by category_code\n",
    "                    order by sum DESC''').toPandas()"
   ]
  },
  {
   "cell_type": "code",
   "execution_count": 80,
   "id": "2e90ae10",
   "metadata": {},
   "outputs": [],
   "source": [
    "cate = {s.split('.')[0]:0 for s in temp['category_code'] if s != None}\n",
    "\n",
    "for i in enumerate(temp['category_code']):\n",
    "    if i[1] != None:\n",
    "        cate[i[1].split('.')[0]] += round(temp['sum'][i[0]])"
   ]
  },
  {
   "cell_type": "code",
   "execution_count": 97,
   "id": "bcc1962d",
   "metadata": {},
   "outputs": [
    {
     "data": {
      "text/plain": [
       "{'electronics': 0.7458,\n",
       " 'computers': 0.0509,\n",
       " 'appliances': 0.0677,\n",
       " 'apparel': 0.0043,\n",
       " 'furniture': 0.0092,\n",
       " 'auto': 0.005,\n",
       " 'kids': 0.0026,\n",
       " 'construction': 0.0039,\n",
       " 'sport': 0.0014,\n",
       " 'accessories': 0.0004,\n",
       " 'medicine': 0.0001,\n",
       " 'country_yard': 0.0,\n",
       " 'stationery': 0.0}"
      ]
     },
     "execution_count": 97,
     "metadata": {},
     "output_type": "execute_result"
    }
   ],
   "source": [
    "dict(zip(cate.keys(),map(lambda x:round(x[1]/sum(temp['sum']),4),cate.items())))"
   ]
  },
  {
   "cell_type": "code",
   "execution_count": 215,
   "id": "78146923",
   "metadata": {},
   "outputs": [
    {
     "data": {
      "image/png": "[encoded data removed]",
      "text/plain": [
       "<Figure size 1500x800 with 1 Axes>"
      ]
     },
     "metadata": {},
     "output_type": "display_data"
    }
   ],
   "source": [
    "sns.barplot(x=list(cate.keys()), y=list(cate.values()));"
   ]
  },
  {
   "cell_type": "markdown",
   "id": "980a3927",
   "metadata": {},
   "source": [
    "# 일별 매출 통계"
   ]
  },
  {
   "cell_type": "code",
   "execution_count": 228,
   "id": "2b8745b0",
   "metadata": {},
   "outputs": [
    {
     "name": "stdout",
     "output_type": "stream",
     "text": [
      "+----------+-------+------+--------+-------+\n",
      "|event_time|   view|  cart|purchase|  sales|\n",
      "+----------+-------+------+--------+-------+\n",
      "|2019-11-01| 915416| 14386|   17209|  276.8|\n",
      "|2019-11-02|1480258| 19502|   22005| 444.29|\n",
      "|2019-11-03|1572159| 19778|   22205|  477.1|\n",
      "|2019-11-04|1613638| 21582|   25668| 495.87|\n",
      "|2019-11-05|1718527| 19693|   25414| 511.07|\n",
      "|2019-11-06|1630395| 19337|   24995| 483.09|\n",
      "|2019-11-07|1753872| 20083|   25249| 514.09|\n",
      "|2019-11-08|1756274| 62552|   25258| 537.62|\n",
      "|2019-11-09|1781871| 71670|   23542| 546.19|\n",
      "|2019-11-10|1834753| 71287|   22772| 567.04|\n",
      "|2019-11-11|1876263| 74320|   24551| 570.51|\n",
      "|2019-11-12|1900853| 70206|   23057| 583.89|\n",
      "|2019-11-13|1902879| 70831|   22390| 591.99|\n",
      "|2019-11-14|2196246| 77994|   23263| 699.75|\n",
      "|2019-11-15|5216748|478144|    4523|1811.31|\n",
      "|2019-11-16|6119565|420227|   64266|2026.45|\n",
      "|2019-11-17|6130474|423878|  143157|1996.52|\n",
      "|2019-11-18|2752098|170262|   67942| 849.47|\n",
      "|2019-11-19|1692797| 74025|   25469| 509.35|\n",
      "|2019-11-20|1610355| 71785|   24863| 474.59|\n",
      "|2019-11-21|1600257| 75696|   25456| 455.46|\n",
      "|2019-11-22|1487286| 71090|   24449| 439.49|\n",
      "|2019-11-23|1467417| 66168|   22756|  437.1|\n",
      "|2019-11-24|1503929| 67123|   22585| 449.31|\n",
      "|2019-11-25|1485189| 70416|   24505| 436.33|\n",
      "|2019-11-26|1565003| 71930|   24535| 458.73|\n",
      "|2019-11-27|1537206| 71075|   24373| 450.91|\n",
      "|2019-11-28|1516830| 70055|   23834| 452.87|\n",
      "|2019-11-29|1708798| 87842|   30471| 526.26|\n",
      "|2019-11-30|1668045| 85554|   29259| 500.23|\n",
      "+----------+-------+------+--------+-------+\n",
      "only showing top 30 rows\n",
      "\n"
     ]
    }
   ],
   "source": [
    "spark.sql('''SELECT DATE(event_time),\n",
    "                    count(case when event_type = 'view' then 1 end) as view,\n",
    "                    count(case when event_type = 'cart' then 1 end) as cart,\n",
    "                    count(case when event_type = 'purchase' then 1 end) as purchase,\n",
    "                    round(sum(price)/1000000, 2) as sales\n",
    "                    from global_temp.df\n",
    "                    group by DATE(event_time)''').show(30)"
   ]
  },
  {
   "cell_type": "code",
   "execution_count": 49,
   "id": "63657f9c",
   "metadata": {},
   "outputs": [],
   "source": [
    "temp = spark.sql('''SELECT DATE(event_time),\n",
    "                    count(case when event_type = 'view' then 1 end) as view,\n",
    "                    count(case when event_type = 'cart' then 1 end) as cart,\n",
    "                    count(case when event_type = 'purchase' then 1 end) as purchase,\n",
    "                    round(sum(price)/1000000, 2) as sales\n",
    "                    from global_temp.df\n",
    "                    group by DATE(event_time)''').toPandas()"
   ]
  },
  {
   "cell_type": "code",
   "execution_count": 59,
   "id": "2d82a702",
   "metadata": {},
   "outputs": [
    {
     "data": {
      "text/plain": [
       "<AxesSubplot:xlabel='event_time', ylabel='sales'>"
      ]
     },
     "execution_count": 59,
     "metadata": {},
     "output_type": "execute_result"
    },
    {
     "data": {
      "image/png": "[encoded data removed]",
      "text/plain": [
       "<Figure size 1500x800 with 1 Axes>"
      ]
     },
     "metadata": {},
     "output_type": "display_data"
    }
   ],
   "source": [
    "sns.lineplot(data=temp, x='event_time', y='sales', markers=True)"
   ]
  },
  {
   "cell_type": "markdown",
   "id": "0b488943",
   "metadata": {},
   "source": [
    "# 액티브 유저 분석"
   ]
  },
  {
   "cell_type": "code",
   "execution_count": 238,
   "id": "5c13f9c1",
   "metadata": {},
   "outputs": [
    {
     "name": "stdout",
     "output_type": "stream",
     "text": [
      "+----------+------+\n",
      "|event_time|active|\n",
      "+----------+------+\n",
      "|2019-11-01| 12789|\n",
      "|2019-11-02| 16187|\n",
      "|2019-11-03| 16475|\n",
      "|2019-11-04| 18877|\n",
      "|2019-11-05| 18564|\n",
      "|2019-11-06| 18136|\n",
      "|2019-11-07| 18417|\n",
      "|2019-11-08| 18387|\n",
      "|2019-11-09| 17246|\n",
      "|2019-11-10| 16754|\n",
      "|2019-11-11| 17954|\n",
      "|2019-11-12| 16600|\n",
      "|2019-11-13| 16126|\n",
      "|2019-11-14| 16492|\n",
      "|2019-11-15|  3460|\n",
      "|2019-11-16| 44129|\n",
      "|2019-11-17| 92930|\n",
      "|2019-11-18| 44408|\n",
      "|2019-11-19| 17874|\n",
      "|2019-11-20| 17635|\n",
      "+----------+------+\n",
      "only showing top 20 rows\n",
      "\n"
     ]
    }
   ],
   "source": [
    "spark.sql('''select DATE(event_time),\n",
    "             count(distinct user_id) as active\n",
    "             from global_temp.df \n",
    "             where event_type = 'purchase' \n",
    "             group by DATE(event_time)\n",
    "             order by DATE(event_time)''').show()"
   ]
  },
  {
   "cell_type": "code",
   "execution_count": 220,
   "id": "4412d3a8",
   "metadata": {},
   "outputs": [],
   "source": [
    "active = spark.sql('''select count(distinct user_id) as active\n",
    "             from global_temp.df \n",
    "             where event_type = 'purchase' and date(event_time) > '2019-11-02'\n",
    "             group by date(event_time) ,hour(event_time)\n",
    "             order by date(event_time) ,hour(event_time)''')"
   ]
  },
  {
   "cell_type": "code",
   "execution_count": 221,
   "id": "0729ee58",
   "metadata": {},
   "outputs": [],
   "source": [
    "active = list(temp.toPandas()['active'])"
   ]
  },
  {
   "cell_type": "code",
   "execution_count": 222,
   "id": "3017f809",
   "metadata": {},
   "outputs": [
    {
     "data": {
      "image/png": "[encoded data removed]",
      "text/plain": [
       "<Figure size 1500x800 with 2 Axes>"
      ]
     },
     "metadata": {},
     "output_type": "display_data"
    }
   ],
   "source": [
    "days = ['sun', 'mon', 'tue', 'wed', 'thur', 'fri', 'sat']\n",
    "sns.heatmap(np.array(active[:24*7]).reshape(7,24), cmap=blues, yticklabels=days);"
   ]
  },
  {
   "cell_type": "markdown",
   "id": "095907b9",
   "metadata": {},
   "source": [
    "# 제품 분석"
   ]
  },
  {
   "cell_type": "code",
   "execution_count": 62,
   "id": "f1c4a95a",
   "metadata": {},
   "outputs": [
    {
     "name": "stdout",
     "output_type": "stream",
     "text": [
      "+----------+-------+------+-----+--------+-------+-------+-------+-----+-----+-------------------+\n",
      "|product_id|  brand|  view| cart|purchase|    avg|    max|    min| vtop| ctop|              first|\n",
      "+----------+-------+------+-----+--------+-------+-------+-------+-----+-----+-------------------+\n",
      "|   1005115|  apple|583010|65395|   22244| 923.54| 990.99|  912.5|0.038| 0.34|2019-11-01 09:00:10|\n",
      "|   1004856|samsung|522880|81205|   32321| 127.27| 136.17| 124.11|0.062|0.398|2019-11-01 09:00:23|\n",
      "|   1004767|samsung|482898|64567|   22613|  245.7| 277.97|  235.6|0.047| 0.35|2019-11-01 09:00:30|\n",
      "|   4804056|  apple|318339|54639|   17800| 162.87| 169.63| 159.33|0.056|0.326|2019-11-01 09:01:30|\n",
      "|   1005160| xiaomi|304614|25271|    6877| 202.36| 212.08| 190.61|0.023|0.272|2019-11-01 09:09:36|\n",
      "|   1004870|samsung|272097|34585|   10673| 282.24| 329.46| 266.52|0.039|0.309|2019-11-01 09:01:33|\n",
      "|   1005105|  apple|275721|22284|    8483|1351.46|1436.07|1286.65|0.031|0.381|2019-11-01 09:03:27|\n",
      "|   1004833|samsung|247446|34218|   13486|  170.7| 180.16| 167.03|0.055|0.394|2019-11-01 09:00:49|\n",
      "|   1004249|  apple|254931|25115|    8881| 758.73| 849.16| 722.18|0.035|0.354|2019-11-01 09:02:38|\n",
      "|   1002544|  apple|229920|27991|   11678| 475.88| 499.35| 457.91|0.051|0.417|2019-11-01 09:00:14|\n",
      "|   1005100|samsung|216374|29796|   10132| 136.22| 141.29| 128.45|0.047| 0.34|2019-11-01 09:03:21|\n",
      "|   1004873|samsung|198101|18231|    6153|  359.0| 411.57| 342.35|0.031|0.338|2019-11-01 09:02:02|\n",
      "|   1004836|samsung|179932|21657|    7858| 230.47| 254.81| 224.17|0.044|0.363|2019-11-01 09:02:11|\n",
      "|   1005239| xiaomi|193835|11213|    2659| 265.64| 280.57| 238.11|0.014|0.237|2019-11-01 09:01:32|\n",
      "|   5100816| xiaomi|168451|23308|    6725|  31.09|   32.9|  29.09| 0.04|0.289|2019-11-01 09:02:36|\n",
      "|   1005116|  apple|166202|18974|    5174| 994.61|1013.93| 979.43|0.031|0.273|2019-11-01 09:00:40|\n",
      "|   1004785| huawei|158024|11202|    3571| 261.16|  266.0|  247.6|0.023|0.319|2019-11-01 09:01:52|\n",
      "|   1004838|   oppo|149872|14119|    5067|  162.3| 180.16| 154.36|0.034|0.359|2019-11-01 09:12:10|\n",
      "|   4804718|  apple|148218| 8145|    2501|  344.0| 360.09|    0.0|0.017|0.307|2019-11-01 14:20:41|\n",
      "|   1002524|  apple|131452|17146|    6244| 551.22| 565.78| 531.24|0.048|0.364|2019-11-01 09:02:18|\n",
      "+----------+-------+------+-----+--------+-------+-------+-------+-----+-----+-------------------+\n",
      "only showing top 20 rows\n",
      "\n"
     ]
    }
   ],
   "source": [
    "product = spark.sql('''SELECT product_id, \n",
    "             max(brand) as brand, \n",
    "             COUNT(case when event_type = 'view' then 1 end) as view,\n",
    "             COUNT(case when event_type = 'cart' then 1 end) as cart,\n",
    "             COUNT(case when event_type = 'purchase' then 1 end) as purchase,\n",
    "             round(avg(price),2) as avg,\n",
    "             max(price) as max,\n",
    "             min(price) as min,\n",
    "             round(COUNT(case when event_type = 'purchase' then 1 end) / COUNT(case when event_type = 'view' then 1 end),3) as vtop,\n",
    "             round(COUNT(case when event_type = 'purchase' then 1 end) / COUNT(case when event_type = 'cart' then 1 end),3) as ctop,\n",
    "             min(event_time) as first\n",
    "             from global_temp.df\n",
    "             group by product_id \n",
    "             order by count(*) DESC;''')\n",
    "\n",
    "product.show()"
   ]
  },
  {
   "cell_type": "code",
   "execution_count": 63,
   "id": "06d57b3f",
   "metadata": {},
   "outputs": [],
   "source": [
    "temp = product.toPandas()"
   ]
  },
  {
   "cell_type": "code",
   "execution_count": 8,
   "id": "3752f354",
   "metadata": {},
   "outputs": [],
   "source": [
    "product.createOrReplaceGlobalTempView('product')"
   ]
  },
  {
   "cell_type": "markdown",
   "id": "b17b566b",
   "metadata": {},
   "source": [
    "# RFM"
   ]
  },
  {
   "cell_type": "code",
   "execution_count": 14,
   "id": "fdd5e650",
   "metadata": {},
   "outputs": [
    {
     "name": "stdout",
     "output_type": "stream",
     "text": [
      "+---------+-------------------+--------------+---------+--------+---------+-------+\n",
      "|  user_id|      last_purchase|purchase_count|      sum|monetary|frequency|recency|\n",
      "+---------+-------------------+--------------+---------+--------+---------+-------+\n",
      "|564068124|2019-12-01 03:14:58|           519| 131929.2|     2.0|      1.0|      0|\n",
      "|512386086|2019-11-30 20:05:17|           268|161682.49|     2.0|      1.0|      1|\n",
      "|549109608|2019-11-30 20:25:24|           222|106692.02|     2.0|      1.0|      1|\n",
      "|518514099|2019-11-28 21:05:15|           202|203986.07|     2.0|      1.0|      3|\n",
      "|549030056|2019-12-01 05:56:21|           190| 30271.04|   1.999|      1.0|      0|\n",
      "|566448225|2019-11-30 19:28:51|           175| 44528.34|     2.0|      1.0|      1|\n",
      "|538473314|2019-11-30 21:24:09|           163| 45383.96|     2.0|      1.0|      1|\n",
      "|513230794|2019-11-30 20:10:29|           156| 73181.68|     2.0|      1.0|      1|\n",
      "|543128872|2019-11-30 21:28:31|           156| 24576.13|   1.999|      1.0|      1|\n",
      "|569181579|2019-11-29 16:57:33|           142| 28685.68|   1.999|      1.0|      2|\n",
      "|568782581|2019-11-30 16:30:14|           142| 34653.45|   1.999|      1.0|      1|\n",
      "|566195962|2019-11-11 18:39:11|           140| 23257.57|   1.999|      1.0|     20|\n",
      "|519023956|2019-11-18 02:18:50|           140| 41678.42|     2.0|      1.0|     13|\n",
      "|534790953|2019-12-01 02:44:39|           139| 80994.36|     2.0|      1.0|      0|\n",
      "|563963872|2019-11-30 20:43:25|           135| 25950.57|   1.999|      1.0|      1|\n",
      "|517853779|2019-11-30 18:13:24|           130| 27927.22|   1.999|      1.0|      1|\n",
      "|551140089|2019-11-29 18:10:41|           127| 60449.82|     2.0|      1.0|      2|\n",
      "|554551310|2019-11-30 20:54:21|           126| 34298.17|   1.999|      1.0|      1|\n",
      "|513320236|2019-11-30 17:59:34|           125|  63744.7|     2.0|      1.0|      1|\n",
      "|558420737|2019-11-29 14:03:25|           124| 37996.51|     2.0|      1.0|      2|\n",
      "+---------+-------------------+--------------+---------+--------+---------+-------+\n",
      "only showing top 20 rows\n",
      "\n"
     ]
    }
   ],
   "source": [
    "user = spark.sql('''SELECT user_id,\n",
    "             max(event_time) as last_purchase,\n",
    "             count(*) as purchase_count,\n",
    "             round(sum(price), 2) as sum,\n",
    "             round(2 * cume_dist() over(order by sum(price) asc), 3) as monetary,\n",
    "             round(cume_dist() over(order by count(*) asc), 3) as frequency,\n",
    "             DATEDIFF(day, max(event_time), '2019-12-02') as recency\n",
    "             from global_temp.df\n",
    "             where event_type = 'purchase'\n",
    "             group by user_id\n",
    "             order by purchase_count DESC;''')\n",
    "\n",
    "user.show()"
   ]
  },
  {
   "cell_type": "code",
   "execution_count": 10,
   "id": "a68dcd67",
   "metadata": {},
   "outputs": [],
   "source": [
    "user.createOrReplaceGlobalTempView('user')"
   ]
  },
  {
   "cell_type": "code",
   "execution_count": null,
   "id": "13d07805",
   "metadata": {},
   "outputs": [],
   "source": [
    "save = spark.sql('''SELECT df.user_id,\n",
    "             round(cume_dist() over(order by avg(df.price - pro.avg) asc), 3) as save\n",
    "             from global_temp.df as df \n",
    "             inner join global_temp.product as pro\n",
    "             on df.product_id = pro.product_id\n",
    "             where event_type = 'purchase'\n",
    "             group by user_id''')"
   ]
  },
  {
   "cell_type": "code",
   "execution_count": 22,
   "id": "6a8d4332",
   "metadata": {},
   "outputs": [],
   "source": [
    "save.createOrReplaceGlobalTempView('save')"
   ]
  },
  {
   "cell_type": "code",
   "execution_count": 29,
   "id": "aa8d8631",
   "metadata": {},
   "outputs": [
    {
     "name": "stdout",
     "output_type": "stream",
     "text": [
      "+---------+-------------------+--------------+---------+--------+---------+-----+-------+\n",
      "|  user_id|      last_purchase|purchase_count|      sum|monetary|frequency| save|recency|\n",
      "+---------+-------------------+--------------+---------+--------+---------+-----+-------+\n",
      "|518514099|2019-11-28 21:05:15|           202|203986.07|     2.0|      1.0|0.954|      3|\n",
      "|512386086|2019-11-30 20:05:17|           268|161682.49|     2.0|      1.0|0.395|      1|\n",
      "|564068124|2019-12-01 03:14:58|           519| 131929.2|     2.0|      1.0| 0.29|      0|\n",
      "|515715331|2019-11-28 15:30:18|            80|117130.12|     2.0|      1.0|  0.7|      3|\n",
      "|521230795|2019-12-01 04:54:11|           120|111072.35|     2.0|      1.0|0.864|      0|\n",
      "|549109608|2019-11-30 20:25:24|           222|106692.02|     2.0|      1.0|0.653|      1|\n",
      "|569333570|2019-11-30 16:48:01|            70| 99622.06|     2.0|      1.0|0.038|      1|\n",
      "|512842822|2019-12-01 06:26:27|            77| 97475.35|     2.0|      1.0|0.032|      0|\n",
      "|515384420|2019-11-29 22:29:58|            60| 92394.47|     2.0|      1.0|0.236|      2|\n",
      "|545743740|2019-12-01 00:59:27|           100| 91858.16|     2.0|      1.0|0.807|      0|\n",
      "|541385001|2019-11-27 23:40:34|            87| 89071.72|     2.0|      1.0|0.884|      4|\n",
      "|563907320|2019-11-30 17:41:06|            91| 87007.63|     2.0|      1.0|0.789|      1|\n",
      "|547227816|2019-11-30 14:22:03|            56| 86996.44|     2.0|      1.0|0.993|      1|\n",
      "|533074223|2019-12-01 08:22:48|           121| 83816.58|     2.0|      1.0|0.842|      0|\n",
      "|515629946|2019-11-29 19:02:41|            83|  83469.0|     2.0|      1.0|0.969|      2|\n",
      "|534545940|2019-11-30 20:34:11|            79| 82037.48|     2.0|      1.0|0.135|      1|\n",
      "|534790953|2019-12-01 02:44:39|           139| 80994.36|     2.0|      1.0|0.944|      0|\n",
      "|568047770|2019-11-14 23:13:33|            96|  79311.0|     2.0|      1.0|0.282|     17|\n",
      "|547080420|2019-11-29 12:59:17|            94| 78784.26|     2.0|      1.0|0.222|      2|\n",
      "|553795371|2019-11-28 21:45:18|            82| 76779.22|     2.0|      1.0|0.843|      3|\n",
      "+---------+-------------------+--------------+---------+--------+---------+-----+-------+\n",
      "only showing top 20 rows\n",
      "\n"
     ]
    }
   ],
   "source": [
    "user = spark.sql('''SELECT user.user_id, user.last_purchase, user.purchase_count, user.sum, user.monetary, user.frequency, save.save, user.recency\n",
    "             from global_temp.user\n",
    "             inner join global_temp.save\n",
    "             on user.user_id = save.user_id\n",
    "             order by user.sum DESC;''')\n",
    "\n",
    "user.show()"
   ]
  },
  {
   "cell_type": "code",
   "execution_count": 30,
   "id": "98c610f1",
   "metadata": {},
   "outputs": [],
   "source": [
    "user.createOrReplaceGlobalTempView('user')"
   ]
  },
  {
   "cell_type": "code",
   "execution_count": 31,
   "id": "897fef36",
   "metadata": {},
   "outputs": [
    {
     "data": {
      "text/plain": [
       "{90: 1.0,\n",
       " 80: 1.0,\n",
       " 70: 1.0,\n",
       " 60: 1.0,\n",
       " 50: 1.0,\n",
       " 40: 1.0,\n",
       " 30: 2.0,\n",
       " 20: 2.0,\n",
       " 10: 4.0}"
      ]
     },
     "execution_count": 31,
     "metadata": {},
     "output_type": "execute_result"
    }
   ],
   "source": [
    "temp = spark.sql('''SELECT purchase_count from global_temp.user''').toPandas()\n",
    "{100-s:np.percentile(np.array(temp['purchase_count']), s) for s in range(10,100,10)}"
   ]
  },
  {
   "cell_type": "markdown",
   "id": "3fce0a8d",
   "metadata": {},
   "source": [
    "하위 70퍼가 1개 상위 30퍼가 2개 상위 10퍼가 4개를 산다."
   ]
  },
  {
   "cell_type": "markdown",
   "id": "1aece6f7",
   "metadata": {},
   "source": [
    "# 6 months test"
   ]
  },
  {
   "cell_type": "code",
   "execution_count": null,
   "id": "9a5d63ef",
   "metadata": {},
   "outputs": [],
   "source": [
    "extension = 'csv' #csv로 파일 확장자 지정 \n",
    "all_filenames = [i for i in glob.glob('dataset/*.{}'.format(extension))]\n",
    "#combine all files in the list\n",
    "combined_csv = pd.concat([pd.read_csv(f) for f in all_filenames ]) #지정한 파일 경로에 있는 모든 파일 불러오기\n",
    "#export to csv\n",
    "combined_csv.to_csv(\"combined_csv.csv\", index=False) "
   ]
  },
  {
   "cell_type": "code",
   "execution_count": 11,
   "id": "9b26f85f",
   "metadata": {},
   "outputs": [],
   "source": [
    "sparkDF = (spark.read.format(\"csv\").options(header=\"true\").load(\"combined.csv\"))\n",
    "sparkDF = sparkDF.withColumn('price', sparkDF['price'].cast('float'))\n",
    "sparkDF = sparkDF.withColumn('event_time', sparkDF['event_time'].cast('timestamp'))"
   ]
  },
  {
   "cell_type": "code",
   "execution_count": 12,
   "id": "c56e54f4",
   "metadata": {},
   "outputs": [],
   "source": [
    "sparkDF.createOrReplaceGlobalTempView('all')"
   ]
  },
  {
   "cell_type": "code",
   "execution_count": 13,
   "id": "e8faa8e2",
   "metadata": {},
   "outputs": [
    {
     "name": "stdout",
     "output_type": "stream",
     "text": [
      "+-------------------+----------+----------+-------------------+--------------------+--------+------+---------+--------------------+\n",
      "|         event_time|event_type|product_id|        category_id|       category_code|   brand| price|  user_id|        user_session|\n",
      "+-------------------+----------+----------+-------------------+--------------------+--------+------+---------+--------------------+\n",
      "|2019-11-01 09:00:00|      view|   1003461|2053013555631882655|electronics.smart...|  xiaomi|489.07|520088904|4d3b30da-a5e4-49d...|\n",
      "|2019-11-01 09:00:00|      view|   5000088|2053013566100866035|appliances.sewing...|  janome|293.65|530496790|8e5f4f83-366c-4f7...|\n",
      "|2019-11-01 09:00:01|      view|  17302664|2053013553853497655|                null|   creed| 28.31|561587266|755422e7-9040-477...|\n",
      "|2019-11-01 09:00:01|      view|   3601530|2053013563810775923|appliances.kitche...|      lg|712.87|518085591|3bfb58cd-7892-48c...|\n",
      "|2019-11-01 09:00:01|      view|   1004775|2053013555631882655|electronics.smart...|  xiaomi|183.27|558856683|313628f1-68b8-460...|\n",
      "|2019-11-01 09:00:01|      view|   1306894|2053013558920217191|  computers.notebook|      hp|360.09|520772685|816a59f3-f5ae-4cc...|\n",
      "|2019-11-01 09:00:01|      view|   1306421|2053013558920217191|  computers.notebook|      hp|514.56|514028527|df8184cc-3694-454...|\n",
      "|2019-11-01 09:00:02|      view|  15900065|2053013558190408249|                null| rondell| 30.86|518574284|5e6ef132-4d7c-473...|\n",
      "|2019-11-01 09:00:02|      view|  12708937|2053013553559896355|                null|michelin| 72.72|532364121|0a899268-31eb-46d...|\n",
      "|2019-11-01 09:00:02|      view|   1004258|2053013555631882655|electronics.smart...|   apple|732.07|532647354|d2d3d2c6-631d-489...|\n",
      "+-------------------+----------+----------+-------------------+--------------------+--------+------+---------+--------------------+\n",
      "only showing top 10 rows\n",
      "\n"
     ]
    }
   ],
   "source": [
    "spark.sql('''SELECT * from global_temp.all''').show(10)"
   ]
  },
  {
   "cell_type": "code",
   "execution_count": 33,
   "id": "4796447d",
   "metadata": {},
   "outputs": [
    {
     "name": "stdout",
     "output_type": "stream",
     "text": [
      "+---------+-------------------+-------------------+--------------+---------+--------+---------+-------+\n",
      "|  user_id|     first_purchase|      last_purchase|purchase_count|      sum|monetary|frequency|recency|\n",
      "+---------+-------------------+-------------------+--------------+---------+--------+---------+-------+\n",
      "|568782581|2019-11-08 12:57:28|2020-03-09 19:42:57|          2120|540447.61|     2.0|      1.0|     53|\n",
      "|513230794|2019-11-01 15:13:15|2020-03-22 17:58:35|          1331|630127.67|     2.0|      1.0|     40|\n",
      "|549109608|2019-11-01 15:27:29|2020-04-06 18:37:22|          1229|672447.47|     2.0|      1.0|     25|\n",
      "|598224683|2020-01-08 16:00:47|2020-04-30 17:10:22|          1059|539601.68|     2.0|      1.0|      1|\n",
      "|513320236|2019-11-01 15:49:15|2020-04-28 16:47:56|           917|472580.05|     2.0|      1.0|      3|\n",
      "|563599039|2019-11-01 18:23:13|2020-02-13 15:46:06|           915|465289.42|     2.0|      1.0|     78|\n",
      "|572994775|2019-11-18 20:49:27|2020-04-08 14:47:11|           866|273916.94|     2.0|      1.0|     23|\n",
      "|628167977|2020-03-14 14:31:45|2020-04-30 18:54:12|           860|223012.07|     2.0|      1.0|      1|\n",
      "|582826305|2019-12-06 18:57:22|2020-02-23 05:07:46|           843|276646.08|     2.0|      1.0|     68|\n",
      "|566448225|2019-11-02 15:43:52|2020-04-27 13:39:29|           841|236895.29|     2.0|      1.0|      4|\n",
      "|553431815|2019-11-04 18:56:26|2020-05-01 05:18:09|           764| 671358.7|     2.0|      1.0|      0|\n",
      "|561174161|2019-11-01 14:32:33|2020-03-24 20:21:43|           744|243540.32|     2.0|      1.0|     38|\n",
      "|538340540|2019-11-07 18:17:17|2020-03-07 15:01:16|           678|261661.83|     2.0|      1.0|     55|\n",
      "|609817194|2020-02-03 18:14:55|2020-03-22 14:44:57|           667|  81784.6|     2.0|      1.0|     40|\n",
      "|568831413|2019-11-08 16:27:12|2020-03-30 17:09:56|           653|125982.45|     2.0|      1.0|     32|\n",
      "|514429354|2019-11-12 12:22:05|2020-04-04 11:46:56|           646|150153.52|     2.0|      1.0|     27|\n",
      "|592146169|2019-12-25 14:01:34|2020-04-17 17:51:27|           636|112099.08|     2.0|      1.0|     14|\n",
      "|572322956|2019-11-18 23:01:58|2020-03-30 14:42:29|           629| 92185.33|     2.0|      1.0|     32|\n",
      "|568411069|2019-11-07 13:14:51|2020-04-02 10:41:51|           628| 295745.9|     2.0|      1.0|     29|\n",
      "|564068124|2019-11-01 16:49:15|2020-03-13 18:33:42|           624|153773.42|     2.0|      1.0|     49|\n",
      "+---------+-------------------+-------------------+--------------+---------+--------+---------+-------+\n",
      "only showing top 20 rows\n",
      "\n"
     ]
    }
   ],
   "source": [
    "user6 = spark.sql('''SELECT user_id,\n",
    "             min(event_time) as first_purchase,\n",
    "             max(event_time) as last_purchase,\n",
    "             count(*) as purchase_count,\n",
    "             round(sum(price), 2) as sum,\n",
    "             round(2 * cume_dist() over(order by sum(price) asc), 3) as monetary,\n",
    "             round(cume_dist() over(order by count(*) asc), 3) as frequency,\n",
    "             DATEDIFF(day, max(event_time), '2020-05-02') as recency\n",
    "             from global_temp.all\n",
    "             where event_type = 'purchase'\n",
    "             group by user_id\n",
    "             order by purchase_count DESC;''')\n",
    "\n",
    "user6.show()"
   ]
  },
  {
   "cell_type": "code",
   "execution_count": 34,
   "id": "c105d6bf",
   "metadata": {},
   "outputs": [],
   "source": [
    "user6.createOrReplaceGlobalTempView('user6')"
   ]
  },
  {
   "cell_type": "code",
   "execution_count": 42,
   "id": "38282b63",
   "metadata": {},
   "outputs": [
    {
     "name": "stdout",
     "output_type": "stream",
     "text": [
      "+---------------------+--------------+\n",
      "|month(first_purchase)|count(user_id)|\n",
      "+---------------------+--------------+\n",
      "|                    1|        227735|\n",
      "|                    2|        235676|\n",
      "|                    3|        267607|\n",
      "|                    4|        325129|\n",
      "|                    5|          3009|\n",
      "|                   11|        439109|\n",
      "|                   12|        385253|\n",
      "+---------------------+--------------+\n",
      "\n"
     ]
    }
   ],
   "source": [
    "spark.sql('''select month(first_purchase),\n",
    "             count(user_id)\n",
    "             from global_temp.user6\n",
    "             group by month(first_purchase)\n",
    "             order by month(first_purchase)''').show()"
   ]
  },
  {
   "cell_type": "code",
   "execution_count": 43,
   "id": "dac2b53e",
   "metadata": {},
   "outputs": [],
   "source": [
    "temp = list(spark.sql('''select recency from global_temp.user6''').toPandas()['recency'])"
   ]
  },
  {
   "cell_type": "code",
   "execution_count": 44,
   "id": "2003dc48",
   "metadata": {},
   "outputs": [
    {
     "data": {
      "text/plain": [
       "Counter({1: 351492,\n",
       "         0: 476159,\n",
       "         2: 276427,\n",
       "         4: 287655,\n",
       "         3: 223750,\n",
       "         5: 252214,\n",
       "         6: 15821})"
      ]
     },
     "execution_count": 44,
     "metadata": {},
     "output_type": "execute_result"
    }
   ],
   "source": [
    "from collections import Counter\n",
    "result = Counter([s//30 for s in temp])\n",
    "result"
   ]
  },
  {
   "cell_type": "code",
   "execution_count": null,
   "id": "ebfb22c5",
   "metadata": {},
   "outputs": [],
   "source": []
  }
 ],
 "metadata": {
  "kernelspec": {
   "display_name": "Python 3 (ipykernel)",
   "language": "python",
   "name": "python3"
  },
  "language_info": {
   "codemirror_mode": {
    "name": "ipython",
    "version": 3
   },
   "file_extension": ".py",
   "mimetype": "text/x-python",
   "name": "python",
   "nbconvert_exporter": "python",
   "pygments_lexer": "ipython3",
   "version": "3.7.15"
  }
 },
 "nbformat": 4,
 "nbformat_minor": 5
}
